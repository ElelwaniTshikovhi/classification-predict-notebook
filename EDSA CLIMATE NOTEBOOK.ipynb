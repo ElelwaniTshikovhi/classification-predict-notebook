{
 "cells": [
  {
   "cell_type": "markdown",
   "id": "b8d2b84c",
   "metadata": {},
   "source": [
    "# CLASSIFICATION Predict Student Solution\n",
    "\n",
    "© Explore Data Science Academy\n",
    "\n",
    "---\n",
    "### Honour Code\n",
    "\n",
    "I {**TEAM CBB3**}, confirm - by submitting this document - that the solutions in this notebook are a result of my own work and that I abide by the [EDSA honour code](https://drive.google.com/file/d/1QDCjGZJ8-FmJE3bZdIQNwnJyQKPhHZBn/view?usp=sharing).\n",
    "\n",
    "Non-compliance with the honour code constitutes a material breach of contract.\n",
    "\n",
    "### Predict Overview: EDSA - Climate Change Belief Analysis 2022\n",
    "\n",
    "Many companies are built around lessening one’s environmental impact or carbon footprint. They offer products and services that are environmentally friendly and sustainable, in line with their values and ideals. They would like to determine how people perceive climate change and whether or not they believe it is a real threat. This would add to their market research efforts in gauging how their product/service may be received.\n",
    "\n",
    "### Problem Statement\n",
    "\n",
    "With this context, EDSA is challenging you during the Classification Sprint with the task of creating a Machine Learning model that is able to classify whether or not a person believes in climate change, based on their novel tweet data.\n",
    "\n",
    "Providing an accurate and robust solution to this task gives companies access to a broad base of consumer sentiment, spanning multiple demographic and geographic categories - thus increasing their insights and informing future marketing strategies.\n",
    "\n",
    "### Data overview\n",
    "Data The collection of this data was funded by a Canada Foundation for Innovation JELF Grant to Chris Bauch, University of Waterloo. The dataset aggregates tweets pertaining to climate change collected between Apr 27, 2015 and Feb 21, 2018. In total, 43943 tweets were collected. Each tweet is labelled as one of the following classes:\n",
    "\n",
    "Class Description\n",
    "* 2 News: the tweet links to factual news about climate change\n",
    "* 1 Pro: the tweet supports the belief of man-made climate change\n",
    "* 0 Neutral: the tweet neither supports nor refutes the belief of man-made climate change\n",
    "* -1 Anti: the tweet does not believe in man-made climate change\n",
    "\n",
    "Variable definitions\n",
    "- sentiment: Sentiment of tweet\n",
    "- message: Tweet body\n",
    "- tweetid: Twitter unique id"
   ]
  },
  {
   "cell_type": "markdown",
   "id": "5a12f436",
   "metadata": {},
   "source": [
    "# Team Supervisor\n",
    "- Chris Barnett\n",
    "\n",
    "# TEAM CBB3 MEMBERS\n",
    "- 1. Elelwani Tshikovhi (Team Leader);\n",
    "- 2. Katlego Maponya (Team coordinator) ;\n",
    "- 3. Musa Mashaba ;\n",
    "- 4. Zwothandwa Kunene ;\n",
    "- 5. Sinethemba Nongqoto;\n",
    "- 6. Desree Maleka\n"
   ]
  },
  {
   "cell_type": "markdown",
   "id": "08ded8e9",
   "metadata": {},
   "source": [
    "<a id=\"cont\"></a>\n",
    "\n",
    "## Table of Contents\n",
    "\n",
    "<a href=#one>1. Importing Packages</a>\n",
    "\n",
    "<a href=#two>2. Loading Data</a>\n",
    "\n",
    "<a href=#three>3. Data Engineering</a>\n",
    "\n",
    "<a href=#four>4. Exploratory Data Analysis (EDA)</a>\n",
    "\n",
    "<a href=#five>5. Modeling</a>\n",
    "\n",
    "<a href=#six>6. Model Performance</a>\n",
    "\n",
    "<a href=#seven>7. Model Explanations</a>"
   ]
  },
  {
   "cell_type": "markdown",
   "id": "438dc4e6",
   "metadata": {},
   "source": [
    "<a id=\"one\"></a>\n",
    "## 1. Importing Packages\n",
    "<a href=#cont>Back to Table of Contents</a>\n",
    "\n",
    "---\n",
    "    \n",
    "| ⚡ Description: Importing Packages ⚡ |\n",
    "| :--------------------------- |\n",
    "|  |\n",
    "\n",
    "---"
   ]
  },
  {
   "cell_type": "markdown",
   "id": "78070faf",
   "metadata": {},
   "source": [
    "# Import all the  **libraries**"
   ]
  },
  {
   "cell_type": "code",
   "execution_count": 132,
   "id": "b3812352",
   "metadata": {},
   "outputs": [
    {
     "name": "stderr",
     "output_type": "stream",
     "text": [
      "[nltk_data] Downloading package punkt to\n",
      "[nltk_data]     C:\\Users\\f5468981\\AppData\\Roaming\\nltk_data...\n",
      "[nltk_data]   Package punkt is already up-to-date!\n",
      "[nltk_data] Downloading package stopwords to\n",
      "[nltk_data]     C:\\Users\\f5468981\\AppData\\Roaming\\nltk_data...\n",
      "[nltk_data]   Package stopwords is already up-to-date!\n"
     ]
    }
   ],
   "source": [
    "# Data analysis and wrangling libraries\n",
    "import pandas as pd\n",
    "import numpy as np\n",
    "# Visualisations\n",
    "import seaborn as sns\n",
    "import matplotlib.pyplot as plt\n",
    "# Preprocessing\n",
    "import string\n",
    "import re\n",
    "import nltk\n",
    "from nltk.corpus import stopwords\n",
    "import time\n",
    "import collections\n",
    "from collections import Counter\n",
    "\n",
    "# Modelling\n",
    "from sklearn.feature_extraction.text import TfidfVectorizer\n",
    "from sklearn.linear_model import LogisticRegression\n",
    "from sklearn.naive_bayes import MultinomialNB\n",
    "from sklearn.ensemble import GradientBoostingClassifier\n",
    "from sklearn.ensemble import RandomForestClassifier, AdaBoostClassifier\n",
    "from sklearn.svm import LinearSVC\n",
    "from sklearn.model_selection import train_test_split\n",
    "from nltk.stem import WordNetLemmatizer\n",
    "from nltk.corpus import stopwords, wordnet\n",
    "from nltk.stem import WordNetLemmatizer\n",
    "from sklearn import metrics\n",
    "from sklearn.metrics import f1_score\n",
    "from collections import Counter\n",
    "from sklearn.feature_extraction.text import CountVectorizer\n",
    "from sklearn.neighbors import KNeighborsClassifier\n",
    "\n",
    "# Metrics for Model Evaluation\n",
    "from sklearn.metrics import roc_curve, auc\n",
    "from sklearn.preprocessing import label_binarize\n",
    "from sklearn.model_selection import GridSearchCV\n",
    "from sklearn.multiclass import OneVsRestClassifier, OneVsOneClassifier\n",
    "from sklearn.metrics import accuracy_score, confusion_matrix\n",
    "from sklearn.metrics import f1_score, precision_score, recall_score\n",
    "from sklearn.metrics import classification_report\n",
    "# Warnings\n",
    "import warnings\n",
    "warnings.filterwarnings(\"ignore\", category=DeprecationWarning)\n",
    "\n",
    "# Downloads\n",
    "nltk.download(['punkt','stopwords'])\n",
    "%matplotlib inline\n",
    "STOPWORDS = set(stopwords.words('english'))"
   ]
  },
  {
   "cell_type": "markdown",
   "id": "0fa75f48",
   "metadata": {},
   "source": [
    "### Download NLTK Corpora\n",
    "Some of the `nltk` text processing methods introduced in this train involve a lookup operation. For example, to find all [stopwords](https://www.geeksforgeeks.org/removing-stop-words-nltk-python/) in a given string of text, we require a list of all possible stopwords in the English language to use for the lookup. Such a list is refered to as a [corpus](https://en.wikipedia.org/wiki/Text_corpus). Therefore, we need to first download the corpora we're going use, otherwise we may get a lookup error! Watch out specifically for the `tokenize` and `stopwords` sections. Not to worry, as we can easily avoid these errors by downloading the [corpora](http://www.nltk.org/nltk_data/) using the `nltk` downloader tool:"
   ]
  },
  {
   "cell_type": "code",
   "execution_count": 133,
   "id": "92e5d754",
   "metadata": {},
   "outputs": [
    {
     "name": "stdout",
     "output_type": "stream",
     "text": [
      "['i', 'me', 'my', 'myself', 'we', 'our', 'ours', 'ourselves', 'you', \"you're\", \"you've\", \"you'll\", \"you'd\", 'your', 'yours', 'yourself', 'yourselves', 'he', 'him', 'his', 'himself', 'she', \"she's\", 'her', 'hers', 'herself', 'it', \"it's\", 'its', 'itself', 'they', 'them', 'their', 'theirs', 'themselves', 'what', 'which', 'who', 'whom', 'this', 'that', \"that'll\", 'these', 'those', 'am', 'is', 'are', 'was', 'were', 'be', 'been', 'being', 'have', 'has', 'had', 'having', 'do', 'does', 'did', 'doing', 'a', 'an', 'the', 'and', 'but', 'if', 'or', 'because', 'as', 'until', 'while', 'of', 'at', 'by', 'for', 'with', 'about', 'against', 'between', 'into', 'through', 'during', 'before', 'after', 'above', 'below', 'to', 'from', 'up', 'down', 'in', 'out', 'on', 'off', 'over', 'under', 'again', 'further', 'then', 'once', 'here', 'there', 'when', 'where', 'why', 'how', 'all', 'any', 'both', 'each', 'few', 'more', 'most', 'other', 'some', 'such', 'no', 'nor', 'not', 'only', 'own', 'same', 'so', 'than', 'too', 'very', 's', 't', 'can', 'will', 'just', 'don', \"don't\", 'should', \"should've\", 'now', 'd', 'll', 'm', 'o', 're', 've', 'y', 'ain', 'aren', \"aren't\", 'couldn', \"couldn't\", 'didn', \"didn't\", 'doesn', \"doesn't\", 'hadn', \"hadn't\", 'hasn', \"hasn't\", 'haven', \"haven't\", 'isn', \"isn't\", 'ma', 'mightn', \"mightn't\", 'mustn', \"mustn't\", 'needn', \"needn't\", 'shan', \"shan't\", 'shouldn', \"shouldn't\", 'wasn', \"wasn't\", 'weren', \"weren't\", 'won', \"won't\", 'wouldn', \"wouldn't\"]\n"
     ]
    }
   ],
   "source": [
    "stopwords_list = stopwords.words('english')\n",
    "print(stopwords_list)"
   ]
  },
  {
   "cell_type": "markdown",
   "id": "4b20bef0",
   "metadata": {},
   "source": [
    "pip intall comet version control"
   ]
  },
  {
   "cell_type": "code",
   "execution_count": 134,
   "id": "96aabdd5",
   "metadata": {},
   "outputs": [
    {
     "name": "stdout",
     "output_type": "stream",
     "text": [
      "Requirement already satisfied: comet_ml in c:\\users\\f5468981\\anaconda3\\lib\\site-packages (3.31.3)\n",
      "Requirement already satisfied: wrapt>=1.11.2 in c:\\users\\f5468981\\anaconda3\\lib\\site-packages (from comet_ml) (1.12.1)\n",
      "Requirement already satisfied: requests>=2.18.4 in c:\\users\\f5468981\\anaconda3\\lib\\site-packages (from comet_ml) (2.26.0)\n",
      "Requirement already satisfied: everett[ini]>=1.0.1 in c:\\users\\f5468981\\anaconda3\\lib\\site-packages (from comet_ml) (3.0.0)\n",
      "Requirement already satisfied: dulwich!=0.20.33,>=0.20.6 in c:\\users\\f5468981\\anaconda3\\lib\\site-packages (from comet_ml) (0.20.42)\n",
      "Requirement already satisfied: wurlitzer>=1.0.2 in c:\\users\\f5468981\\anaconda3\\lib\\site-packages (from comet_ml) (3.0.2)\n",
      "Requirement already satisfied: jsonschema!=3.1.0,>=2.6.0 in c:\\users\\f5468981\\anaconda3\\lib\\site-packages (from comet_ml) (3.2.0)\n",
      "Requirement already satisfied: semantic-version>=2.8.0 in c:\\users\\f5468981\\anaconda3\\lib\\site-packages (from comet_ml) (2.10.0)\n",
      "Requirement already satisfied: requests-toolbelt>=0.8.0 in c:\\users\\f5468981\\anaconda3\\lib\\site-packages (from comet_ml) (0.9.1)\n",
      "Requirement already satisfied: websocket-client>=0.55.0 in c:\\users\\f5468981\\anaconda3\\lib\\site-packages (from comet_ml) (1.3.2)\n",
      "Requirement already satisfied: six in c:\\users\\f5468981\\anaconda3\\lib\\site-packages (from comet_ml) (1.16.0)\n",
      "Requirement already satisfied: nvidia-ml-py3>=7.352.0 in c:\\users\\f5468981\\anaconda3\\lib\\site-packages (from comet_ml) (7.352.0)\n",
      "Requirement already satisfied: certifi in c:\\users\\f5468981\\anaconda3\\lib\\site-packages (from dulwich!=0.20.33,>=0.20.6->comet_ml) (2021.10.8)\n",
      "Requirement already satisfied: urllib3>=1.24.1 in c:\\users\\f5468981\\anaconda3\\lib\\site-packages (from dulwich!=0.20.33,>=0.20.6->comet_ml) (1.26.7)\n",
      "Requirement already satisfied: configobj in c:\\users\\f5468981\\anaconda3\\lib\\site-packages (from everett[ini]>=1.0.1->comet_ml) (5.0.6)\n",
      "Requirement already satisfied: setuptools in c:\\users\\f5468981\\anaconda3\\lib\\site-packages (from jsonschema!=3.1.0,>=2.6.0->comet_ml) (58.0.4)\n",
      "Requirement already satisfied: attrs>=17.4.0 in c:\\users\\f5468981\\anaconda3\\lib\\site-packages (from jsonschema!=3.1.0,>=2.6.0->comet_ml) (21.2.0)\n",
      "Requirement already satisfied: pyrsistent>=0.14.0 in c:\\users\\f5468981\\anaconda3\\lib\\site-packages (from jsonschema!=3.1.0,>=2.6.0->comet_ml) (0.18.0)\n",
      "Requirement already satisfied: idna<4,>=2.5 in c:\\users\\f5468981\\anaconda3\\lib\\site-packages (from requests>=2.18.4->comet_ml) (3.2)\n",
      "Requirement already satisfied: charset-normalizer~=2.0.0 in c:\\users\\f5468981\\anaconda3\\lib\\site-packages (from requests>=2.18.4->comet_ml) (2.0.4)\n"
     ]
    }
   ],
   "source": [
    "!pip3 install comet_ml"
   ]
  },
  {
   "cell_type": "code",
   "execution_count": 45,
   "id": "1a8cea2d",
   "metadata": {},
   "outputs": [
    {
     "name": "stderr",
     "output_type": "stream",
     "text": [
      "COMET WARNING: Comet has disabled auto-logging functionality as it has been imported after the following ML modules: sklearn. Metrics and hyperparameters can still be logged using comet_ml.log_metrics() and comet_ml.log_parameters()\n",
      "COMET INFO: ---------------------------\n",
      "COMET INFO: Comet.ml Experiment Summary\n",
      "COMET INFO: ---------------------------\n",
      "COMET INFO:   Data:\n",
      "COMET INFO:     display_summary_level : 1\n",
      "COMET INFO:     url                   : https://www.comet.ml/elelwani-tshikovhi/team-cbb-3-classification/a1eaf3a35b694a95ac0fb14a3ced071c\n",
      "COMET INFO:   Uploads:\n",
      "COMET INFO:     conda-info               : 1\n",
      "COMET INFO:     conda-specification      : 1\n",
      "COMET INFO:     environment details      : 1\n",
      "COMET INFO:     filename                 : 1\n",
      "COMET INFO:     git metadata             : 1\n",
      "COMET INFO:     git-patch (uncompressed) : 1 (730.81 KB)\n",
      "COMET INFO:     installed packages       : 1\n",
      "COMET INFO:     notebook                 : 1\n",
      "COMET INFO:     source_code              : 1\n",
      "COMET INFO: ---------------------------\n",
      "COMET WARNING: Comet has disabled auto-logging functionality as it has been imported after the following ML modules: sklearn. Metrics and hyperparameters can still be logged using comet_ml.log_metrics() and comet_ml.log_parameters()\n",
      "COMET WARNING: As you are running in a Jupyter environment, you will need to call `experiment.end()` when finished to ensure all metrics and code are logged before exiting.\n",
      "COMET INFO: Experiment is live on comet.ml https://www.comet.ml/elelwani-tshikovhi/team-cbb-3-classification/029f607f1a4d4e0495970011242c52f9\n",
      "\n"
     ]
    }
   ],
   "source": [
    "# Import comet_ml at the top \n",
    "from comet_ml import Experiment\n",
    "\n",
    "# Create an experiment with your api key\n",
    "experiment = Experiment(\n",
    "    api_key=\"rI7gAvhuv8lNvQcjSox3TjwIF\",\n",
    "    project_name=\"team-cbb-3-classification\",\n",
    "    workspace=\"elelwani-tshikovhi\",\n",
    ")\n",
    "\n",
    "# Run your code and go to /"
   ]
  },
  {
   "cell_type": "markdown",
   "id": "acd42284",
   "metadata": {},
   "source": [
    "*   [Trello Link](https://trello.com/b/2KvEPRJi/advanced-classificatin-team-cbb3-week-1)\n",
    "*   [Link to comet](https://www.comet.ml/elelwani-tshikovhi/team-cbb-3-classification/view/new/panels)\n",
    "*   [Link to Github](https://github.com/TEAMCBB3Classificationpredict)\n",
    "*   [Link to streamlit]( http://34.244.129.101:5000)\n",
    "*   [link to presentation](https://docs.google.com/presentation/d/19E1pbrp_lXfBG3FyOsz43QQRqq-qd7eGtp00w7nESCs/edit#slide=id.p)"
   ]
  },
  {
   "cell_type": "markdown",
   "id": "8ed07070",
   "metadata": {},
   "source": [
    "<a id=\"two\"></a>\n",
    "## 2. Loading the Data\n",
    "<a class=\"anchor\" id=\"1.1\"></a>\n",
    "<a href=#cont>Back to Table of Contents</a>\n",
    "\n",
    "---\n",
    "    \n",
    "| ⚡ Description: Loading the data ⚡ |\n",
    "| :--------------------------- |\n",
    "\n",
    "---"
   ]
  },
  {
   "cell_type": "markdown",
   "id": "8eef35b6",
   "metadata": {},
   "source": [
    "The training and testing data, trains_set and test_set respectively are loaded as Pandas DataFrames"
   ]
  },
  {
   "cell_type": "code",
   "execution_count": 176,
   "id": "238720ac",
   "metadata": {},
   "outputs": [],
   "source": [
    "# Load train data\n",
    "train = pd.read_csv('https://raw.githubusercontent.com/TEAMCBB3Classificationpredict/datasets/main/train.csv')\n",
    "\n",
    "# Load test data\n",
    "test = pd.read_csv('https://raw.githubusercontent.com/TEAMCBB3Classificationpredict/datasets/main/test_with_no_labels.csv')"
   ]
  },
  {
   "cell_type": "code",
   "execution_count": 47,
   "id": "4b902548",
   "metadata": {},
   "outputs": [
    {
     "data": {
      "text/html": [
       "<div>\n",
       "<style scoped>\n",
       "    .dataframe tbody tr th:only-of-type {\n",
       "        vertical-align: middle;\n",
       "    }\n",
       "\n",
       "    .dataframe tbody tr th {\n",
       "        vertical-align: top;\n",
       "    }\n",
       "\n",
       "    .dataframe thead th {\n",
       "        text-align: right;\n",
       "    }\n",
       "</style>\n",
       "<table border=\"1\" class=\"dataframe\">\n",
       "  <thead>\n",
       "    <tr style=\"text-align: right;\">\n",
       "      <th></th>\n",
       "      <th>sentiment</th>\n",
       "      <th>message</th>\n",
       "      <th>tweetid</th>\n",
       "    </tr>\n",
       "  </thead>\n",
       "  <tbody>\n",
       "    <tr>\n",
       "      <th>0</th>\n",
       "      <td>1</td>\n",
       "      <td>PolySciMajor EPA chief doesn't think carbon di...</td>\n",
       "      <td>625221</td>\n",
       "    </tr>\n",
       "    <tr>\n",
       "      <th>1</th>\n",
       "      <td>1</td>\n",
       "      <td>It's not like we lack evidence of anthropogeni...</td>\n",
       "      <td>126103</td>\n",
       "    </tr>\n",
       "    <tr>\n",
       "      <th>2</th>\n",
       "      <td>2</td>\n",
       "      <td>RT @RawStory: Researchers say we have three ye...</td>\n",
       "      <td>698562</td>\n",
       "    </tr>\n",
       "    <tr>\n",
       "      <th>3</th>\n",
       "      <td>1</td>\n",
       "      <td>#TodayinMaker# WIRED : 2016 was a pivotal year...</td>\n",
       "      <td>573736</td>\n",
       "    </tr>\n",
       "    <tr>\n",
       "      <th>4</th>\n",
       "      <td>1</td>\n",
       "      <td>RT @SoyNovioDeTodas: It's 2016, and a racist, ...</td>\n",
       "      <td>466954</td>\n",
       "    </tr>\n",
       "    <tr>\n",
       "      <th>5</th>\n",
       "      <td>1</td>\n",
       "      <td>Worth a read whether you do or don't believe i...</td>\n",
       "      <td>425577</td>\n",
       "    </tr>\n",
       "    <tr>\n",
       "      <th>6</th>\n",
       "      <td>1</td>\n",
       "      <td>RT @thenation: Mike Pence doesn’t believe in g...</td>\n",
       "      <td>294933</td>\n",
       "    </tr>\n",
       "    <tr>\n",
       "      <th>7</th>\n",
       "      <td>1</td>\n",
       "      <td>RT @makeandmendlife: Six big things we can ALL...</td>\n",
       "      <td>992717</td>\n",
       "    </tr>\n",
       "    <tr>\n",
       "      <th>8</th>\n",
       "      <td>1</td>\n",
       "      <td>@AceofSpadesHQ My 8yo nephew is inconsolable. ...</td>\n",
       "      <td>664510</td>\n",
       "    </tr>\n",
       "    <tr>\n",
       "      <th>9</th>\n",
       "      <td>1</td>\n",
       "      <td>RT @paigetweedy: no offense… but like… how do ...</td>\n",
       "      <td>260471</td>\n",
       "    </tr>\n",
       "  </tbody>\n",
       "</table>\n",
       "</div>"
      ],
      "text/plain": [
       "   sentiment                                            message  tweetid\n",
       "0          1  PolySciMajor EPA chief doesn't think carbon di...   625221\n",
       "1          1  It's not like we lack evidence of anthropogeni...   126103\n",
       "2          2  RT @RawStory: Researchers say we have three ye...   698562\n",
       "3          1  #TodayinMaker# WIRED : 2016 was a pivotal year...   573736\n",
       "4          1  RT @SoyNovioDeTodas: It's 2016, and a racist, ...   466954\n",
       "5          1  Worth a read whether you do or don't believe i...   425577\n",
       "6          1  RT @thenation: Mike Pence doesn’t believe in g...   294933\n",
       "7          1  RT @makeandmendlife: Six big things we can ALL...   992717\n",
       "8          1  @AceofSpadesHQ My 8yo nephew is inconsolable. ...   664510\n",
       "9          1  RT @paigetweedy: no offense… but like… how do ...   260471"
      ]
     },
     "execution_count": 47,
     "metadata": {},
     "output_type": "execute_result"
    }
   ],
   "source": [
    "train.head(10)"
   ]
  },
  {
   "cell_type": "markdown",
   "id": "b298ceb1",
   "metadata": {},
   "source": [
    "\n"
   ]
  },
  {
   "cell_type": "markdown",
   "id": "b588ce7c",
   "metadata": {},
   "source": [
    "<a id=\"three\"></a>\n",
    "## 3. Exploratory Data Analysis (EDA)\n",
    "<a class=\"anchor\" id=\"1.1\"></a>\n",
    "<a href=#cont>Back to Table of Contents</a>\n",
    "\n",
    "---\n",
    "    \n",
    "| ⚡ Description: Exploratory data analysis ⚡ |\n",
    "| :--------------------------- |\n",
    "|This phase is important. This will help to understand patterns in the data, pinpoint any outliers and indicate relationships between variables uusing  descriptive statistics and data visualisations\n",
    "\n",
    "---\n"
   ]
  },
  {
   "cell_type": "markdown",
   "id": "1f95a2b8",
   "metadata": {},
   "source": [
    "### Shape of Dataframe"
   ]
  },
  {
   "cell_type": "code",
   "execution_count": 48,
   "id": "9f04ce8f",
   "metadata": {},
   "outputs": [
    {
     "name": "stdout",
     "output_type": "stream",
     "text": [
      "Train shape : rows, columns: (15819, 3)\n",
      "Train shape : rows, columns: (10546, 2)\n"
     ]
    }
   ],
   "source": [
    "print('Train shape : rows, columns:',train.shape)\n",
    "print('Train shape : rows, columns:',test.shape)"
   ]
  },
  {
   "cell_type": "code",
   "execution_count": 49,
   "id": "1e54b645",
   "metadata": {},
   "outputs": [
    {
     "name": "stdout",
     "output_type": "stream",
     "text": [
      "<class 'pandas.core.frame.DataFrame'>\n",
      "RangeIndex: 15819 entries, 0 to 15818\n",
      "Data columns (total 3 columns):\n",
      " #   Column     Non-Null Count  Dtype \n",
      "---  ------     --------------  ----- \n",
      " 0   sentiment  15819 non-null  int64 \n",
      " 1   message    15819 non-null  object\n",
      " 2   tweetid    15819 non-null  int64 \n",
      "dtypes: int64(2), object(1)\n",
      "memory usage: 370.9+ KB\n"
     ]
    }
   ],
   "source": [
    "train.info()"
   ]
  },
  {
   "cell_type": "markdown",
   "id": "ff75d834",
   "metadata": {},
   "source": [
    "### Get Statistical Info of all features"
   ]
  },
  {
   "cell_type": "code",
   "execution_count": 50,
   "id": "b60e6d15",
   "metadata": {},
   "outputs": [
    {
     "data": {
      "text/html": [
       "<div>\n",
       "<style scoped>\n",
       "    .dataframe tbody tr th:only-of-type {\n",
       "        vertical-align: middle;\n",
       "    }\n",
       "\n",
       "    .dataframe tbody tr th {\n",
       "        vertical-align: top;\n",
       "    }\n",
       "\n",
       "    .dataframe thead th {\n",
       "        text-align: right;\n",
       "    }\n",
       "</style>\n",
       "<table border=\"1\" class=\"dataframe\">\n",
       "  <thead>\n",
       "    <tr style=\"text-align: right;\">\n",
       "      <th></th>\n",
       "      <th>sentiment</th>\n",
       "      <th>tweetid</th>\n",
       "    </tr>\n",
       "  </thead>\n",
       "  <tbody>\n",
       "    <tr>\n",
       "      <th>count</th>\n",
       "      <td>15819.000000</td>\n",
       "      <td>15819.000000</td>\n",
       "    </tr>\n",
       "    <tr>\n",
       "      <th>mean</th>\n",
       "      <td>0.917504</td>\n",
       "      <td>501719.433656</td>\n",
       "    </tr>\n",
       "    <tr>\n",
       "      <th>std</th>\n",
       "      <td>0.836537</td>\n",
       "      <td>289045.983132</td>\n",
       "    </tr>\n",
       "    <tr>\n",
       "      <th>min</th>\n",
       "      <td>-1.000000</td>\n",
       "      <td>6.000000</td>\n",
       "    </tr>\n",
       "    <tr>\n",
       "      <th>25%</th>\n",
       "      <td>1.000000</td>\n",
       "      <td>253207.500000</td>\n",
       "    </tr>\n",
       "    <tr>\n",
       "      <th>50%</th>\n",
       "      <td>1.000000</td>\n",
       "      <td>502291.000000</td>\n",
       "    </tr>\n",
       "    <tr>\n",
       "      <th>75%</th>\n",
       "      <td>1.000000</td>\n",
       "      <td>753769.000000</td>\n",
       "    </tr>\n",
       "    <tr>\n",
       "      <th>max</th>\n",
       "      <td>2.000000</td>\n",
       "      <td>999888.000000</td>\n",
       "    </tr>\n",
       "  </tbody>\n",
       "</table>\n",
       "</div>"
      ],
      "text/plain": [
       "          sentiment        tweetid\n",
       "count  15819.000000   15819.000000\n",
       "mean       0.917504  501719.433656\n",
       "std        0.836537  289045.983132\n",
       "min       -1.000000       6.000000\n",
       "25%        1.000000  253207.500000\n",
       "50%        1.000000  502291.000000\n",
       "75%        1.000000  753769.000000\n",
       "max        2.000000  999888.000000"
      ]
     },
     "execution_count": 50,
     "metadata": {},
     "output_type": "execute_result"
    }
   ],
   "source": [
    "train.describe()"
   ]
  },
  {
   "cell_type": "markdown",
   "id": "5b2a747c",
   "metadata": {},
   "source": [
    "### Check for nulls"
   ]
  },
  {
   "cell_type": "code",
   "execution_count": 51,
   "id": "9fc38a92",
   "metadata": {},
   "outputs": [
    {
     "data": {
      "text/plain": [
       "sentiment    0\n",
       "message      0\n",
       "tweetid      0\n",
       "dtype: int64"
      ]
     },
     "execution_count": 51,
     "metadata": {},
     "output_type": "execute_result"
    }
   ],
   "source": [
    "train.isnull().sum()"
   ]
  },
  {
   "cell_type": "code",
   "execution_count": 52,
   "id": "48b8b0b8",
   "metadata": {},
   "outputs": [
    {
     "data": {
      "text/html": [
       "<div>\n",
       "<style scoped>\n",
       "    .dataframe tbody tr th:only-of-type {\n",
       "        vertical-align: middle;\n",
       "    }\n",
       "\n",
       "    .dataframe tbody tr th {\n",
       "        vertical-align: top;\n",
       "    }\n",
       "\n",
       "    .dataframe thead th {\n",
       "        text-align: right;\n",
       "    }\n",
       "</style>\n",
       "<table border=\"1\" class=\"dataframe\">\n",
       "  <thead>\n",
       "    <tr style=\"text-align: right;\">\n",
       "      <th></th>\n",
       "      <th>sentiment</th>\n",
       "      <th>counts</th>\n",
       "    </tr>\n",
       "  </thead>\n",
       "  <tbody>\n",
       "    <tr>\n",
       "      <th>0</th>\n",
       "      <td>-1</td>\n",
       "      <td>1296</td>\n",
       "    </tr>\n",
       "    <tr>\n",
       "      <th>1</th>\n",
       "      <td>0</td>\n",
       "      <td>2353</td>\n",
       "    </tr>\n",
       "    <tr>\n",
       "      <th>2</th>\n",
       "      <td>1</td>\n",
       "      <td>8530</td>\n",
       "    </tr>\n",
       "    <tr>\n",
       "      <th>3</th>\n",
       "      <td>2</td>\n",
       "      <td>3640</td>\n",
       "    </tr>\n",
       "  </tbody>\n",
       "</table>\n",
       "</div>"
      ],
      "text/plain": [
       "   sentiment  counts\n",
       "0         -1    1296\n",
       "1          0    2353\n",
       "2          1    8530\n",
       "3          2    3640"
      ]
     },
     "execution_count": 52,
     "metadata": {},
     "output_type": "execute_result"
    }
   ],
   "source": [
    "# Create class distribution dataframe\n",
    "sentiment_counts = train.groupby('sentiment').size().reset_index(name='counts')\n",
    "sentiment_counts\n"
   ]
  },
  {
   "cell_type": "markdown",
   "id": "bf3a13d8",
   "metadata": {},
   "source": [
    "### Histogram and density plot"
   ]
  },
  {
   "cell_type": "code",
   "execution_count": 53,
   "id": "38bb21d4",
   "metadata": {},
   "outputs": [
    {
     "data": {
      "image/png": "[encoded data removed]",
      "text/plain": [
       "<Figure size 864x432 with 1 Axes>"
      ]
     },
     "metadata": {},
     "output_type": "display_data"
    }
   ],
   "source": [
    "plt.figure(figsize=(12,6))\n",
    "sns.countplot(x='sentiment',data=train, palette=\"Blues_d\")\n",
    "plt.title('Count of Sentiments\\n')\n",
    "plt.show()"
   ]
  },
  {
   "cell_type": "code",
   "execution_count": 54,
   "id": "e6dff8f8",
   "metadata": {},
   "outputs": [
    {
     "data": {
      "image/png": "[encoded data removed]",
      "text/plain": [
       "<Figure size 1008x648 with 1 Axes>"
      ]
     },
     "metadata": {},
     "output_type": "display_data"
    }
   ],
   "source": [
    "senti = train.groupby('sentiment', as_index=False).count()\n",
    "fig = plt.subplots(figsize=(14,9))\n",
    "plt.pie(senti['message'], labels = senti['sentiment'].astype('str'), autopct='%1.1f%%', explode = [0.05, 0.05, 0.05, 0.05])\n",
    "plt.title('Percentage of sentiments in train_data')\n",
    "plt.show()"
   ]
  },
  {
   "cell_type": "code",
   "execution_count": 55,
   "id": "b2063ffd",
   "metadata": {},
   "outputs": [
    {
     "data": {
      "text/plain": [
       "<Figure size 1440x1080 with 0 Axes>"
      ]
     },
     "metadata": {},
     "output_type": "display_data"
    },
    {
     "data": {
      "image/png": "[encoded data removed]",
      "text/plain": [
       "<Figure size 864x216 with 4 Axes>"
      ]
     },
     "metadata": {},
     "output_type": "display_data"
    }
   ],
   "source": [
    "#Plot the distribution of the tweet length per class using a histogram.\n",
    "plt.figure(figsize=(20,15))\n",
    "train['message_length'] = train['message'].apply(len)\n",
    "g = sns.FacetGrid(train,col='sentiment')\n",
    "g.map(plt.hist,'message_length') \n",
    "plt.show()"
   ]
  },
  {
   "cell_type": "code",
   "execution_count": 56,
   "id": "c4fa711d",
   "metadata": {},
   "outputs": [
    {
     "data": {
      "image/png": "[encoded data removed]",
      "text/plain": [
       "<Figure size 720x720 with 2 Axes>"
      ]
     },
     "metadata": {},
     "output_type": "display_data"
    }
   ],
   "source": [
    "features = ['sentiment', 'tweetid']\n",
    "train[features].hist(figsize=(10,10));"
   ]
  },
  {
   "cell_type": "code",
   "execution_count": 57,
   "id": "abc91bf7",
   "metadata": {},
   "outputs": [
    {
     "data": {
      "image/png": "[encoded data removed]",
      "text/plain": [
       "<Figure size 864x360 with 1 Axes>"
      ]
     },
     "metadata": {},
     "output_type": "display_data"
    }
   ],
   "source": [
    "fig,axis = plt.subplots(figsize=(12,5)) \n",
    "sns.boxplot(x='sentiment',y='message_length',data=train,palette=(\"Blues_d\")) \n",
    "plt.title('Distribution of message_length for Different Sentiments', fontsize = 12) \n",
    "plt.xlabel('Sentiment', fontsize = 12) \n",
    "plt.ylabel('message_length', fontsize = 12) \n",
    "plt.show()"
   ]
  },
  {
   "cell_type": "code",
   "execution_count": 58,
   "id": "51099552",
   "metadata": {},
   "outputs": [
    {
     "data": {
      "image/png": "[encoded data removed]",
      "text/plain": [
       "<Figure size 720x720 with 6 Axes>"
      ]
     },
     "metadata": {},
     "output_type": "display_data"
    }
   ],
   "source": [
    "train[features].plot(kind='density', subplots=True, layout=(3, 2), sharex=False, figsize=(10, 10));"
   ]
  },
  {
   "cell_type": "markdown",
   "id": "d3507c1a",
   "metadata": {},
   "source": [
    "### Box and Violin plot\n"
   ]
  },
  {
   "cell_type": "code",
   "execution_count": 59,
   "id": "88411270",
   "metadata": {},
   "outputs": [
    {
     "data": {
      "image/png": "[encoded data removed]",
      "text/plain": [
       "<Figure size 432x288 with 1 Axes>"
      ]
     },
     "metadata": {},
     "output_type": "display_data"
    }
   ],
   "source": [
    "sns.boxplot(x='tweetid', data=train);"
   ]
  },
  {
   "cell_type": "code",
   "execution_count": 60,
   "id": "c32e409f",
   "metadata": {},
   "outputs": [
    {
     "data": {
      "image/png": "[encoded data removed]",
      "text/plain": [
       "<Figure size 432x288 with 1 Axes>"
      ]
     },
     "metadata": {},
     "output_type": "display_data"
    }
   ],
   "source": [
    "sns.violinplot(x='sentiment', data=train);\n"
   ]
  },
  {
   "cell_type": "code",
   "execution_count": 61,
   "id": "04da1b7b",
   "metadata": {},
   "outputs": [
    {
     "data": {
      "text/plain": [
       "<AxesSubplot:>"
      ]
     },
     "execution_count": 61,
     "metadata": {},
     "output_type": "execute_result"
    },
    {
     "data": {
      "image/png": "[encoded data removed]",
      "text/plain": [
       "<Figure size 720x360 with 1 Axes>"
      ]
     },
     "metadata": {},
     "output_type": "display_data"
    }
   ],
   "source": [
    "# Visualize current state of data\n",
    "# Function returns a unigram\n",
    "def top_tweet_unigrams(corpus, n=None):\n",
    "    vec = CountVectorizer(ngram_range = (1, 1)).fit(corpus)\n",
    "    bag_of_words = vec.transform(corpus)\n",
    "    sum_words = bag_of_words.sum(axis=0) \n",
    "    words_freq = [(word, sum_words[0, idx]) for word, idx in vec.vocabulary_.items()]\n",
    "    words_freq =sorted(words_freq, key = lambda x: x[1], reverse=True)\n",
    "    \n",
    "    return words_freq[:n]\n",
    "\n",
    "plt.figure(figsize=(10,5))\n",
    "top_tweet_unigram = top_tweet_unigrams(train['message'])[:20]\n",
    "x,y = map(list,zip(*top_tweet_unigram))\n",
    "sns.barplot(x=y, y=x)"
   ]
  },
  {
   "cell_type": "code",
   "execution_count": 62,
   "id": "1013aa88",
   "metadata": {},
   "outputs": [
    {
     "data": {
      "text/plain": [
       "<AxesSubplot:>"
      ]
     },
     "execution_count": 62,
     "metadata": {},
     "output_type": "execute_result"
    },
    {
     "data": {
      "image/png": "[encoded data removed]",
      "text/plain": [
       "<Figure size 720x360 with 1 Axes>"
      ]
     },
     "metadata": {},
     "output_type": "display_data"
    }
   ],
   "source": [
    "# Function returns a bigram\n",
    "def top_tweet_bigrams(corpus, n=None):\n",
    "    vec = CountVectorizer(ngram_range=(2, 2)).fit(corpus)\n",
    "    bag_of_words = vec.transform(corpus)\n",
    "    sum_words = bag_of_words.sum(axis=0) \n",
    "    words_freq = [(word, sum_words[0, idx]) for word, idx in vec.vocabulary_.items()]\n",
    "    words_freq = sorted(words_freq, key = lambda x: x[1], reverse=True)\n",
    "    return words_freq[:n]\n",
    "\n",
    "plt.figure(figsize=(10,5))\n",
    "top_tweet_bigram = top_tweet_bigrams(train['message'])[:20]\n",
    "x,y=map(list,zip(*top_tweet_bigram))\n",
    "sns.barplot(x=y,y=x)"
   ]
  },
  {
   "cell_type": "markdown",
   "id": "2c653aa1",
   "metadata": {},
   "source": [
    "### Non graphical multivariate analysis"
   ]
  },
  {
   "cell_type": "code",
   "execution_count": 63,
   "id": "f4ab47e9",
   "metadata": {},
   "outputs": [
    {
     "data": {
      "text/html": [
       "<div>\n",
       "<style scoped>\n",
       "    .dataframe tbody tr th:only-of-type {\n",
       "        vertical-align: middle;\n",
       "    }\n",
       "\n",
       "    .dataframe tbody tr th {\n",
       "        vertical-align: top;\n",
       "    }\n",
       "\n",
       "    .dataframe thead th {\n",
       "        text-align: right;\n",
       "    }\n",
       "</style>\n",
       "<table border=\"1\" class=\"dataframe\">\n",
       "  <thead>\n",
       "    <tr style=\"text-align: right;\">\n",
       "      <th></th>\n",
       "      <th>sentiment</th>\n",
       "      <th>tweetid</th>\n",
       "      <th>message_length</th>\n",
       "    </tr>\n",
       "  </thead>\n",
       "  <tbody>\n",
       "    <tr>\n",
       "      <th>sentiment</th>\n",
       "      <td>1.000000</td>\n",
       "      <td>-0.003758</td>\n",
       "      <td>0.052893</td>\n",
       "    </tr>\n",
       "    <tr>\n",
       "      <th>tweetid</th>\n",
       "      <td>-0.003758</td>\n",
       "      <td>1.000000</td>\n",
       "      <td>0.005774</td>\n",
       "    </tr>\n",
       "    <tr>\n",
       "      <th>message_length</th>\n",
       "      <td>0.052893</td>\n",
       "      <td>0.005774</td>\n",
       "      <td>1.000000</td>\n",
       "    </tr>\n",
       "  </tbody>\n",
       "</table>\n",
       "</div>"
      ],
      "text/plain": [
       "                sentiment   tweetid  message_length\n",
       "sentiment        1.000000 -0.003758        0.052893\n",
       "tweetid         -0.003758  1.000000        0.005774\n",
       "message_length   0.052893  0.005774        1.000000"
      ]
     },
     "execution_count": 63,
     "metadata": {},
     "output_type": "execute_result"
    }
   ],
   "source": [
    "train.corr()"
   ]
  },
  {
   "cell_type": "markdown",
   "id": "1b7e2acf",
   "metadata": {},
   "source": [
    "### Multivariate analysis: Graphical\n"
   ]
  },
  {
   "cell_type": "markdown",
   "id": "5d35b90f",
   "metadata": {},
   "source": [
    "#### Heatmap"
   ]
  },
  {
   "cell_type": "code",
   "execution_count": 64,
   "id": "91fb4d66",
   "metadata": {},
   "outputs": [
    {
     "data": {
      "image/png": "[encoded data removed]",
      "text/plain": [
       "<Figure size 432x288 with 2 Axes>"
      ]
     },
     "metadata": {},
     "output_type": "display_data"
    }
   ],
   "source": [
    "heatmap = sns.heatmap(train.corr(), vmin=-1, vmax=1, annot=True)\n",
    "heatmap.set_title('Correlation Heatmap', fontdict={'fontsize':12}, pad=12);"
   ]
  },
  {
   "cell_type": "markdown",
   "id": "fa99e997",
   "metadata": {},
   "source": [
    "#### Pair Plot"
   ]
  },
  {
   "cell_type": "code",
   "execution_count": 65,
   "id": "cb441815",
   "metadata": {},
   "outputs": [
    {
     "data": {
      "image/png": "[encoded data removed]",
      "text/plain": [
       "<Figure size 411.75x360 with 6 Axes>"
      ]
     },
     "metadata": {},
     "output_type": "display_data"
    }
   ],
   "source": [
    "sns.set_style(\"whitegrid\");\n",
    "sns.pairplot(train, hue=\"sentiment\");\n",
    "plt.show();"
   ]
  },
  {
   "cell_type": "markdown",
   "id": "da5e78c3",
   "metadata": {},
   "source": [
    "for the test data"
   ]
  },
  {
   "cell_type": "code",
   "execution_count": 66,
   "id": "6e091d41",
   "metadata": {},
   "outputs": [
    {
     "name": "stdout",
     "output_type": "stream",
     "text": [
      "<class 'pandas.core.frame.DataFrame'>\n",
      "RangeIndex: 10546 entries, 0 to 10545\n",
      "Data columns (total 2 columns):\n",
      " #   Column   Non-Null Count  Dtype \n",
      "---  ------   --------------  ----- \n",
      " 0   message  10546 non-null  object\n",
      " 1   tweetid  10546 non-null  int64 \n",
      "dtypes: int64(1), object(1)\n",
      "memory usage: 164.9+ KB\n"
     ]
    }
   ],
   "source": [
    "test.info()"
   ]
  },
  {
   "cell_type": "markdown",
   "id": "3203bf60",
   "metadata": {},
   "source": [
    "<a id=\"four\"></a>\n",
    "## 4. Data cleaning\n",
    "<a class=\"anchor\" id=\"1.1\"></a>\n",
    "<a href=#cont>Back to Table of Contents</a>\n",
    "\n",
    "---\n",
    "    \n",
    "| ⚡ Description: Data Cleaning ⚡ |\n",
    "| :--------------------------- |\n",
    "|  clean the dataset, and possibly create new features -using Natural language process . |"
   ]
  },
  {
   "cell_type": "code",
   "execution_count": 177,
   "id": "4849949f",
   "metadata": {},
   "outputs": [],
   "source": [
    "df = train.copy()"
   ]
  },
  {
   "cell_type": "markdown",
   "id": "630c4afe",
   "metadata": {},
   "source": [
    "# **Tweets Data Preprocessing and Cleaning** \n",
    "The preprocessing of the text data is an essential step as it makes the raw text ready for modelling , we remove  noisy and inconsistent data"
   ]
  },
  {
   "cell_type": "code",
   "execution_count": 178,
   "id": "2159d4da",
   "metadata": {},
   "outputs": [
    {
     "data": {
      "image/png": "[encoded data removed]",
      "text/plain": [
       "<Figure size 720x360 with 1 Axes>"
      ]
     },
     "metadata": {
      "needs_background": "light"
     },
     "output_type": "display_data"
    }
   ],
   "source": [
    "#Function to find average word length \n",
    "def average_word_length(x):\n",
    "    x = x.split()\n",
    "    return np.mean([len(i) for i in x])\n",
    "\n",
    "# Broadcast to text column\n",
    "df['average_word_length'] = df['message'].apply(average_word_length)\n",
    "\n",
    "# Split so we can use updated train set with new feature\n",
    "df = df[:len(df)]\n",
    "\n",
    "# Define subplot to see graphs side by side\n",
    "fig = plt.subplots(figsize = (10, 5))\n",
    "\n",
    "# Create graphs\n",
    "sns.kdeplot(df['average_word_length'][df['sentiment'] == 0], shade = True, label = 'Neutral')\n",
    "sns.kdeplot(df['average_word_length'][df['sentiment'] == 1], shade = True, label = 'Pro')\n",
    "sns.kdeplot(df['average_word_length'][df['sentiment'] == 2], shade = True, label = 'News')\n",
    "sns.kdeplot(df['average_word_length'][df['sentiment'] == -1], shade = True, label = 'Anti')\n",
    "\n",
    "# Set title\n",
    "plt.title('Distribution of Tweet Average Word Length')\n",
    "plt.xlabel('Average Word Length')\n",
    "plt.ylabel('Sentiment Probability')\n",
    "\n",
    "# Plot graphs\n",
    "plt.show()"
   ]
  },
  {
   "cell_type": "code",
   "execution_count": 179,
   "id": "b5a86ae4",
   "metadata": {},
   "outputs": [
    {
     "data": {
      "image/png": "[encoded data removed]",
      "text/plain": [
       "<Figure size 720x360 with 1 Axes>"
      ]
     },
     "metadata": {
      "needs_background": "light"
     },
     "output_type": "display_data"
    }
   ],
   "source": [
    "# Column for the number of words in tweet\n",
    "df['word_count'] = df['message'].apply(lambda x: len(x.split()))\n",
    "\n",
    "# Split so we can use updated train set with new feature\n",
    "df = df[:len(df)]\n",
    "\n",
    "# Define subplot to see graphs side by side\n",
    "fig = plt.subplots(figsize = (10, 5))\n",
    "\n",
    "#create graphs\n",
    "sns.kdeplot(df['word_count'][df['sentiment'] == 0], shade = True, label = 'Neutral')\n",
    "sns.kdeplot(df['word_count'][df['sentiment'] == 1], shade = True, label = 'Pro')\n",
    "sns.kdeplot(df['word_count'][df['sentiment'] == 2], shade = True, label = 'News')\n",
    "sns.kdeplot(df['word_count'][df['sentiment'] == -1], shade = True, label = 'Anti')\n",
    "\n",
    "# Set title and plot\n",
    "plt.title('Distribution of Tweet Word Count')\n",
    "plt.xlabel('Word Count')\n",
    "plt.ylabel('Sentiments Proportions')\n",
    "plt.show()"
   ]
  },
  {
   "cell_type": "code",
   "execution_count": 180,
   "id": "d7bf34b9",
   "metadata": {},
   "outputs": [
    {
     "data": {
      "image/png": "[encoded data removed]",
      "text/plain": [
       "<Figure size 720x360 with 1 Axes>"
      ]
     },
     "metadata": {
      "needs_background": "light"
     },
     "output_type": "display_data"
    }
   ],
   "source": [
    "# Column for the number of characters in a tweet\n",
    "df['character_count'] = df['message'].apply(lambda x: len(x))\n",
    "\n",
    "# Split so we can use updated train set with new feature\n",
    "df = df[:len(df)]\n",
    "\n",
    "# Define subplot to see graphs side by side\n",
    "fig = plt.subplots(figsize = (10, 5))\n",
    "\n",
    "# Create graphs\n",
    "sns.kdeplot(df['character_count'][df['sentiment'] == 0], shade = True, label = 'Neutral')\n",
    "sns.kdeplot(df['character_count'][df['sentiment'] == 1], shade = True, label = 'Pro')\n",
    "sns.kdeplot(df['character_count'][df['sentiment'] == 2], shade = True, label = 'News')\n",
    "sns.kdeplot(df['character_count'][df['sentiment'] == -1], shade = True, label = 'Anti')\n",
    "\n",
    "\n",
    "# Set title and plot\n",
    "plt.title('Distribution of Tweet Character Count')\n",
    "plt.xlabel('Character Count')\n",
    "plt.ylabel('Sentiment Probability')\n",
    "plt.show()"
   ]
  },
  {
   "cell_type": "code",
   "execution_count": 181,
   "id": "fa2ad714",
   "metadata": {},
   "outputs": [
    {
     "data": {
      "text/html": [
       "<div>\n",
       "<style scoped>\n",
       "    .dataframe tbody tr th:only-of-type {\n",
       "        vertical-align: middle;\n",
       "    }\n",
       "\n",
       "    .dataframe tbody tr th {\n",
       "        vertical-align: top;\n",
       "    }\n",
       "\n",
       "    .dataframe thead th {\n",
       "        text-align: right;\n",
       "    }\n",
       "</style>\n",
       "<table border=\"1\" class=\"dataframe\">\n",
       "  <thead>\n",
       "    <tr style=\"text-align: right;\">\n",
       "      <th></th>\n",
       "      <th>sentiment</th>\n",
       "      <th>message</th>\n",
       "      <th>tweetid</th>\n",
       "      <th>average_word_length</th>\n",
       "      <th>word_count</th>\n",
       "      <th>character_count</th>\n",
       "    </tr>\n",
       "  </thead>\n",
       "  <tbody>\n",
       "    <tr>\n",
       "      <th>0</th>\n",
       "      <td>Pro</td>\n",
       "      <td>PolySciMajor EPA chief doesn't think carbon di...</td>\n",
       "      <td>625221</td>\n",
       "      <td>6.421053</td>\n",
       "      <td>19</td>\n",
       "      <td>140</td>\n",
       "    </tr>\n",
       "    <tr>\n",
       "      <th>1</th>\n",
       "      <td>Pro</td>\n",
       "      <td>It's not like we lack evidence of anthropogeni...</td>\n",
       "      <td>126103</td>\n",
       "      <td>5.300000</td>\n",
       "      <td>10</td>\n",
       "      <td>62</td>\n",
       "    </tr>\n",
       "    <tr>\n",
       "      <th>2</th>\n",
       "      <td>News</td>\n",
       "      <td>RT @RawStory: Researchers say we have three ye...</td>\n",
       "      <td>698562</td>\n",
       "      <td>6.421053</td>\n",
       "      <td>19</td>\n",
       "      <td>140</td>\n",
       "    </tr>\n",
       "    <tr>\n",
       "      <th>3</th>\n",
       "      <td>Pro</td>\n",
       "      <td>#TodayinMaker# WIRED : 2016 was a pivotal year...</td>\n",
       "      <td>573736</td>\n",
       "      <td>5.666667</td>\n",
       "      <td>15</td>\n",
       "      <td>99</td>\n",
       "    </tr>\n",
       "    <tr>\n",
       "      <th>4</th>\n",
       "      <td>Pro</td>\n",
       "      <td>RT @SoyNovioDeTodas: It's 2016, and a racist, ...</td>\n",
       "      <td>466954</td>\n",
       "      <td>5.833333</td>\n",
       "      <td>18</td>\n",
       "      <td>122</td>\n",
       "    </tr>\n",
       "    <tr>\n",
       "      <th>5</th>\n",
       "      <td>Pro</td>\n",
       "      <td>Worth a read whether you do or don't believe i...</td>\n",
       "      <td>425577</td>\n",
       "      <td>6.928571</td>\n",
       "      <td>14</td>\n",
       "      <td>110</td>\n",
       "    </tr>\n",
       "    <tr>\n",
       "      <th>6</th>\n",
       "      <td>Pro</td>\n",
       "      <td>RT @thenation: Mike Pence doesn’t believe in g...</td>\n",
       "      <td>294933</td>\n",
       "      <td>6.500000</td>\n",
       "      <td>16</td>\n",
       "      <td>119</td>\n",
       "    </tr>\n",
       "    <tr>\n",
       "      <th>7</th>\n",
       "      <td>Pro</td>\n",
       "      <td>RT @makeandmendlife: Six big things we can ALL...</td>\n",
       "      <td>992717</td>\n",
       "      <td>5.652174</td>\n",
       "      <td>23</td>\n",
       "      <td>152</td>\n",
       "    </tr>\n",
       "    <tr>\n",
       "      <th>8</th>\n",
       "      <td>Pro</td>\n",
       "      <td>@AceofSpadesHQ My 8yo nephew is inconsolable. ...</td>\n",
       "      <td>664510</td>\n",
       "      <td>4.600000</td>\n",
       "      <td>25</td>\n",
       "      <td>139</td>\n",
       "    </tr>\n",
       "    <tr>\n",
       "      <th>9</th>\n",
       "      <td>Pro</td>\n",
       "      <td>RT @paigetweedy: no offense… but like… how do ...</td>\n",
       "      <td>260471</td>\n",
       "      <td>4.933333</td>\n",
       "      <td>15</td>\n",
       "      <td>88</td>\n",
       "    </tr>\n",
       "  </tbody>\n",
       "</table>\n",
       "</div>"
      ],
      "text/plain": [
       "  sentiment                                            message  tweetid  \\\n",
       "0       Pro  PolySciMajor EPA chief doesn't think carbon di...   625221   \n",
       "1       Pro  It's not like we lack evidence of anthropogeni...   126103   \n",
       "2      News  RT @RawStory: Researchers say we have three ye...   698562   \n",
       "3       Pro  #TodayinMaker# WIRED : 2016 was a pivotal year...   573736   \n",
       "4       Pro  RT @SoyNovioDeTodas: It's 2016, and a racist, ...   466954   \n",
       "5       Pro  Worth a read whether you do or don't believe i...   425577   \n",
       "6       Pro  RT @thenation: Mike Pence doesn’t believe in g...   294933   \n",
       "7       Pro  RT @makeandmendlife: Six big things we can ALL...   992717   \n",
       "8       Pro  @AceofSpadesHQ My 8yo nephew is inconsolable. ...   664510   \n",
       "9       Pro  RT @paigetweedy: no offense… but like… how do ...   260471   \n",
       "\n",
       "   average_word_length  word_count  character_count  \n",
       "0             6.421053          19              140  \n",
       "1             5.300000          10               62  \n",
       "2             6.421053          19              140  \n",
       "3             5.666667          15               99  \n",
       "4             5.833333          18              122  \n",
       "5             6.928571          14              110  \n",
       "6             6.500000          16              119  \n",
       "7             5.652174          23              152  \n",
       "8             4.600000          25              139  \n",
       "9             4.933333          15               88  "
      ]
     },
     "execution_count": 181,
     "metadata": {},
     "output_type": "execute_result"
    }
   ],
   "source": [
    "# convert text into numbers\n",
    "def sentiment(df):\n",
    "    \"\"\"\n",
    "    This function converts the classes from\n",
    "    numbers into words\n",
    "\n",
    "    Input:\n",
    "    dataframe: original tweets\n",
    "    datatype: Dataframe\n",
    "\n",
    "    output:Dataframe\n",
    "    datatype: dataframe\n",
    "\n",
    "    \"\"\"\n",
    "    sentiment = df['sentiment']\n",
    "    sentiment_class = []\n",
    "    for i in sentiment:\n",
    "        if i == 1:\n",
    "            sentiment_class.append('Pro')\n",
    "        elif i == 0:\n",
    "            sentiment_class.append('Neutral')\n",
    "        elif i == -1:\n",
    "            sentiment_class.append('Anti')\n",
    "        else:\n",
    "            sentiment_class.append('News')\n",
    "\n",
    "    df['sentiment'] = sentiment_class\n",
    "    return df\n",
    "df = sentiment(df)\n",
    "df.head(10)"
   ]
  },
  {
   "cell_type": "code",
   "execution_count": 182,
   "id": "c84dd4ba",
   "metadata": {},
   "outputs": [
    {
     "data": {
      "text/html": [
       "<div>\n",
       "<style scoped>\n",
       "    .dataframe tbody tr th:only-of-type {\n",
       "        vertical-align: middle;\n",
       "    }\n",
       "\n",
       "    .dataframe tbody tr th {\n",
       "        vertical-align: top;\n",
       "    }\n",
       "\n",
       "    .dataframe thead th {\n",
       "        text-align: right;\n",
       "    }\n",
       "</style>\n",
       "<table border=\"1\" class=\"dataframe\">\n",
       "  <thead>\n",
       "    <tr style=\"text-align: right;\">\n",
       "      <th></th>\n",
       "      <th>sentiment</th>\n",
       "      <th>message</th>\n",
       "      <th>tweetid</th>\n",
       "      <th>average_word_length</th>\n",
       "      <th>word_count</th>\n",
       "      <th>character_count</th>\n",
       "      <th>hashtags</th>\n",
       "    </tr>\n",
       "  </thead>\n",
       "  <tbody>\n",
       "    <tr>\n",
       "      <th>0</th>\n",
       "      <td>Pro</td>\n",
       "      <td>PolySciMajor EPA chief doesn't think carbon di...</td>\n",
       "      <td>625221</td>\n",
       "      <td>6.421053</td>\n",
       "      <td>19</td>\n",
       "      <td>140</td>\n",
       "      <td>[]</td>\n",
       "    </tr>\n",
       "    <tr>\n",
       "      <th>1</th>\n",
       "      <td>Pro</td>\n",
       "      <td>It's not like we lack evidence of anthropogeni...</td>\n",
       "      <td>126103</td>\n",
       "      <td>5.300000</td>\n",
       "      <td>10</td>\n",
       "      <td>62</td>\n",
       "      <td>[]</td>\n",
       "    </tr>\n",
       "    <tr>\n",
       "      <th>2</th>\n",
       "      <td>News</td>\n",
       "      <td>RT @RawStory: Researchers say we have three ye...</td>\n",
       "      <td>698562</td>\n",
       "      <td>6.421053</td>\n",
       "      <td>19</td>\n",
       "      <td>140</td>\n",
       "      <td>[]</td>\n",
       "    </tr>\n",
       "    <tr>\n",
       "      <th>3</th>\n",
       "      <td>Pro</td>\n",
       "      <td>#TodayinMaker# WIRED : 2016 was a pivotal year...</td>\n",
       "      <td>573736</td>\n",
       "      <td>5.666667</td>\n",
       "      <td>15</td>\n",
       "      <td>99</td>\n",
       "      <td>[#TodayinMaker#]</td>\n",
       "    </tr>\n",
       "    <tr>\n",
       "      <th>4</th>\n",
       "      <td>Pro</td>\n",
       "      <td>RT @SoyNovioDeTodas: It's 2016, and a racist, ...</td>\n",
       "      <td>466954</td>\n",
       "      <td>5.833333</td>\n",
       "      <td>18</td>\n",
       "      <td>122</td>\n",
       "      <td>[#ElectionNight]</td>\n",
       "    </tr>\n",
       "    <tr>\n",
       "      <th>...</th>\n",
       "      <td>...</td>\n",
       "      <td>...</td>\n",
       "      <td>...</td>\n",
       "      <td>...</td>\n",
       "      <td>...</td>\n",
       "      <td>...</td>\n",
       "      <td>...</td>\n",
       "    </tr>\n",
       "    <tr>\n",
       "      <th>15814</th>\n",
       "      <td>Pro</td>\n",
       "      <td>RT @ezlusztig: They took down the material on ...</td>\n",
       "      <td>22001</td>\n",
       "      <td>5.409091</td>\n",
       "      <td>22</td>\n",
       "      <td>140</td>\n",
       "      <td>[]</td>\n",
       "    </tr>\n",
       "    <tr>\n",
       "      <th>15815</th>\n",
       "      <td>News</td>\n",
       "      <td>RT @washingtonpost: How climate change could b...</td>\n",
       "      <td>17856</td>\n",
       "      <td>8.230769</td>\n",
       "      <td>13</td>\n",
       "      <td>119</td>\n",
       "      <td>[]</td>\n",
       "    </tr>\n",
       "    <tr>\n",
       "      <th>15816</th>\n",
       "      <td>Neutral</td>\n",
       "      <td>notiven: RT: nytimesworld :What does Trump act...</td>\n",
       "      <td>384248</td>\n",
       "      <td>6.052632</td>\n",
       "      <td>19</td>\n",
       "      <td>133</td>\n",
       "      <td>[]</td>\n",
       "    </tr>\n",
       "    <tr>\n",
       "      <th>15817</th>\n",
       "      <td>Anti</td>\n",
       "      <td>RT @sara8smiles: Hey liberals the climate chan...</td>\n",
       "      <td>819732</td>\n",
       "      <td>5.142857</td>\n",
       "      <td>21</td>\n",
       "      <td>128</td>\n",
       "      <td>[#Agenda2030.]</td>\n",
       "    </tr>\n",
       "    <tr>\n",
       "      <th>15818</th>\n",
       "      <td>Neutral</td>\n",
       "      <td>RT @Chet_Cannon: .@kurteichenwald's 'climate c...</td>\n",
       "      <td>806319</td>\n",
       "      <td>9.300000</td>\n",
       "      <td>10</td>\n",
       "      <td>102</td>\n",
       "      <td>[]</td>\n",
       "    </tr>\n",
       "  </tbody>\n",
       "</table>\n",
       "<p>15819 rows × 7 columns</p>\n",
       "</div>"
      ],
      "text/plain": [
       "      sentiment                                            message  tweetid  \\\n",
       "0           Pro  PolySciMajor EPA chief doesn't think carbon di...   625221   \n",
       "1           Pro  It's not like we lack evidence of anthropogeni...   126103   \n",
       "2          News  RT @RawStory: Researchers say we have three ye...   698562   \n",
       "3           Pro  #TodayinMaker# WIRED : 2016 was a pivotal year...   573736   \n",
       "4           Pro  RT @SoyNovioDeTodas: It's 2016, and a racist, ...   466954   \n",
       "...         ...                                                ...      ...   \n",
       "15814       Pro  RT @ezlusztig: They took down the material on ...    22001   \n",
       "15815      News  RT @washingtonpost: How climate change could b...    17856   \n",
       "15816   Neutral  notiven: RT: nytimesworld :What does Trump act...   384248   \n",
       "15817      Anti  RT @sara8smiles: Hey liberals the climate chan...   819732   \n",
       "15818   Neutral  RT @Chet_Cannon: .@kurteichenwald's 'climate c...   806319   \n",
       "\n",
       "       average_word_length  word_count  character_count          hashtags  \n",
       "0                 6.421053          19              140                []  \n",
       "1                 5.300000          10               62                []  \n",
       "2                 6.421053          19              140                []  \n",
       "3                 5.666667          15               99  [#TodayinMaker#]  \n",
       "4                 5.833333          18              122  [#ElectionNight]  \n",
       "...                    ...         ...              ...               ...  \n",
       "15814             5.409091          22              140                []  \n",
       "15815             8.230769          13              119                []  \n",
       "15816             6.052632          19              133                []  \n",
       "15817             5.142857          21              128    [#Agenda2030.]  \n",
       "15818             9.300000          10              102                []  \n",
       "\n",
       "[15819 rows x 7 columns]"
      ]
     },
     "execution_count": 182,
     "metadata": {},
     "output_type": "execute_result"
    }
   ],
   "source": [
    "# Extract the hashtags from the tweets\n",
    "def extract_hashtags(df):\n",
    "    \"\"\"\n",
    "    This function extracts hashtags from tweets\n",
    "    and stores the hashtags on a new column\n",
    "\n",
    "    Input: train Dataframe\n",
    "    datatype: dataframe\n",
    "    output: new column with hastag column\n",
    "    \"\"\"\n",
    "    df['hashtags'] = df['message'].str.findall(r'#.*?(?=\\s|$)')\n",
    "    df['hashtags'].apply(lambda x: np.nan if len(x) == 0 else [x.lower() for x in x])\n",
    "    return df\n",
    "extract_hashtags(df)\n"
   ]
  },
  {
   "cell_type": "code",
   "execution_count": 183,
   "id": "2aa69c2a",
   "metadata": {},
   "outputs": [
    {
     "name": "stdout",
     "output_type": "stream",
     "text": [
      "Requirement already satisfied: demoji in c:\\users\\f5468981\\anaconda3\\lib\\site-packages (1.1.0)\n",
      "Note: you may need to restart the kernel to use updated packages.\n"
     ]
    }
   ],
   "source": [
    "pip install demoji"
   ]
  },
  {
   "cell_type": "code",
   "execution_count": 184,
   "id": "1b170562",
   "metadata": {},
   "outputs": [
    {
     "name": "stdout",
     "output_type": "stream",
     "text": [
      "Requirement already satisfied: emoji in c:\\users\\f5468981\\anaconda3\\lib\\site-packages (1.7.0)\n",
      "Note: you may need to restart the kernel to use updated packages.\n"
     ]
    }
   ],
   "source": [
    "%pip install emoji"
   ]
  },
  {
   "cell_type": "markdown",
   "id": "eca374ad",
   "metadata": {},
   "source": [
    "we can see there are no emoji on the messages "
   ]
  },
  {
   "cell_type": "code",
   "execution_count": 185,
   "id": "4addf623",
   "metadata": {},
   "outputs": [
    {
     "name": "stdout",
     "output_type": "stream",
     "text": [
      "Train data percentange of Retweets: 12.061%\n",
      "Test data percentage of Retweets: 11.037%\n"
     ]
    }
   ],
   "source": [
    "# Check duplicate messages in the training data\n",
    "dupl_train = df['message']\n",
    "dupl_train = df[dupl_train.isin(dupl_train[dupl_train.duplicated()])].sort_values(\"message\")\n",
    "\n",
    "# Check duplicate tweetid's in the training data and to see that each message is unique\n",
    "dupl_tweet_id = df['tweetid']\n",
    "df[dupl_tweet_id.isin(dupl_tweet_id[dupl_tweet_id.duplicated()])].sort_values(\"message\")\n",
    "\n",
    "# Check for duplicate messages in the testing data\n",
    "dupl_test = test['message']\n",
    "dupl_test = test[dupl_test.isin(dupl_test[dupl_test.duplicated()])].sort_values(\"message\")\n",
    "\n",
    "# Check duplicate tweetid's in the testing data and to see that each message is unique\n",
    "dupl_tweet_id = test['tweetid']\n",
    "test[dupl_tweet_id.isin(dupl_tweet_id[dupl_tweet_id.duplicated()])].sort_values(\"message\")\n",
    "\n",
    "# View percentage of duplicates in our datasests\n",
    "dupl_train_prop = (len(dupl_train)/len(df['message']))*100\n",
    "dupl_test_prop = (len(dupl_test)/len(test['message']))*100\n",
    "print('Train data percentange of Retweets:',str(round((dupl_train_prop),3))+\"%\")\n",
    "print('Test data percentage of Retweets:',str(round((dupl_test_prop),3))+\"%\")"
   ]
  },
  {
   "cell_type": "code",
   "execution_count": 186,
   "id": "086c28ea",
   "metadata": {},
   "outputs": [
    {
     "data": {
      "text/html": [
       "<div>\n",
       "<style scoped>\n",
       "    .dataframe tbody tr th:only-of-type {\n",
       "        vertical-align: middle;\n",
       "    }\n",
       "\n",
       "    .dataframe tbody tr th {\n",
       "        vertical-align: top;\n",
       "    }\n",
       "\n",
       "    .dataframe thead th {\n",
       "        text-align: right;\n",
       "    }\n",
       "</style>\n",
       "<table border=\"1\" class=\"dataframe\">\n",
       "  <thead>\n",
       "    <tr style=\"text-align: right;\">\n",
       "      <th></th>\n",
       "      <th>message</th>\n",
       "      <th>tweetid</th>\n",
       "    </tr>\n",
       "  </thead>\n",
       "  <tbody>\n",
       "    <tr>\n",
       "      <th>5094</th>\n",
       "      <td>How can people be so ignorant when it comes to...</td>\n",
       "      <td>618984</td>\n",
       "    </tr>\n",
       "    <tr>\n",
       "      <th>9691</th>\n",
       "      <td>How can people be so ignorant when it comes to...</td>\n",
       "      <td>353129</td>\n",
       "    </tr>\n",
       "    <tr>\n",
       "      <th>960</th>\n",
       "      <td>Obamas fiddled global warming data: *Shameless...</td>\n",
       "      <td>818493</td>\n",
       "    </tr>\n",
       "    <tr>\n",
       "      <th>4866</th>\n",
       "      <td>Obamas fiddled global warming data: *Shameless...</td>\n",
       "      <td>122281</td>\n",
       "    </tr>\n",
       "    <tr>\n",
       "      <th>3341</th>\n",
       "      <td>RT @1followernodad: ok a climate change denier...</td>\n",
       "      <td>543287</td>\n",
       "    </tr>\n",
       "    <tr>\n",
       "      <th>4978</th>\n",
       "      <td>RT @1followernodad: ok a climate change denier...</td>\n",
       "      <td>176463</td>\n",
       "    </tr>\n",
       "    <tr>\n",
       "      <th>9601</th>\n",
       "      <td>RT @1followernodad: ok a climate change denier...</td>\n",
       "      <td>345248</td>\n",
       "    </tr>\n",
       "  </tbody>\n",
       "</table>\n",
       "</div>"
      ],
      "text/plain": [
       "                                                message  tweetid\n",
       "5094  How can people be so ignorant when it comes to...   618984\n",
       "9691  How can people be so ignorant when it comes to...   353129\n",
       "960   Obamas fiddled global warming data: *Shameless...   818493\n",
       "4866  Obamas fiddled global warming data: *Shameless...   122281\n",
       "3341  RT @1followernodad: ok a climate change denier...   543287\n",
       "4978  RT @1followernodad: ok a climate change denier...   176463\n",
       "9601  RT @1followernodad: ok a climate change denier...   345248"
      ]
     },
     "execution_count": 186,
     "metadata": {},
     "output_type": "execute_result"
    }
   ],
   "source": [
    "dupl_test.head(7)"
   ]
  },
  {
   "cell_type": "code",
   "execution_count": 187,
   "id": "0460c96b",
   "metadata": {},
   "outputs": [],
   "source": [
    "#removinging @handles\n",
    "def remove_pattern(input_txt, pattern):\n",
    "\n",
    "  \"\"\"\n",
    "  Function Extracts Twitter Handles from the tweets\n",
    "\n",
    "  input: Two arguments input_txt and pattern\n",
    "\n",
    "  Output: twitter handles\n",
    "  \"\"\"\n",
    "  r = re.findall(pattern, input_txt)\n",
    "  for i in r:\n",
    "      input_txt = re.sub(i, '', input_txt)\n",
    "      \n",
    "  return input_txt  "
   ]
  },
  {
   "cell_type": "code",
   "execution_count": 188,
   "id": "68ec6bcc",
   "metadata": {},
   "outputs": [],
   "source": [
    "# remove twitter handles (@user) from train data\n",
    "df['message'] = np.vectorize(remove_pattern)(df['message'], \"@[\\w]*\")\n"
   ]
  },
  {
   "cell_type": "markdown",
   "id": "47b49b86",
   "metadata": {},
   "source": []
  },
  {
   "cell_type": "markdown",
   "id": "54756703",
   "metadata": {},
   "source": [
    "### Tweet Cleaning\n",
    "The objective of this step is to clean noise those are less relevant to find the sentiment of tweets such as punctuation, special characters, numbers, and terms which don’t carry much weightage in context to the text."
   ]
  },
  {
   "cell_type": "code",
   "execution_count": 189,
   "id": "e13fdefb",
   "metadata": {},
   "outputs": [
    {
     "name": "stderr",
     "output_type": "stream",
     "text": [
      "C:\\Users\\f5468981\\AppData\\Local\\Temp/ipykernel_23004/58436751.py:2: FutureWarning: The default value of regex will change from True to False in a future version.\n",
      "  df['message'] = df['message'].str.replace(\"[^a-zA-Z#]\", \" \")\n"
     ]
    }
   ],
   "source": [
    "# remove special characters, numbers, punctuations from train data\n",
    "df['message'] = df['message'].str.replace(\"[^a-zA-Z#]\", \" \")\n"
   ]
  },
  {
   "cell_type": "code",
   "execution_count": 190,
   "id": "ce916cda",
   "metadata": {},
   "outputs": [
    {
     "data": {
      "text/plain": [
       "0        PolySciMajor chief doesn think carbon dioxide ...\n",
       "1          like lack evidence anthropogenic global warming\n",
       "2        Researchers have three years climate change be...\n",
       "3        #TodayinMaker# WIRED pivotal year climate chan...\n",
       "4        racist sexist climate change denying bigot lea...\n",
       "                               ...                        \n",
       "15814    They took down material global warming LGBT ri...\n",
       "15815    climate change could breaking million year rel...\n",
       "15816    notiven nytimesworld What does Trump actually ...\n",
       "15817    liberals climate change crap hoax that ties #A...\n",
       "15818    climate change equation screenshots https UufcxDQ\n",
       "Name: message, Length: 15819, dtype: object"
      ]
     },
     "execution_count": 190,
     "metadata": {},
     "output_type": "execute_result"
    }
   ],
   "source": [
    "# removing short words from train data\n",
    "df['message'].apply(lambda x: ' '.join([w for w in x.split() if len(w)>3]))\n"
   ]
  },
  {
   "cell_type": "code",
   "execution_count": 191,
   "id": "9277adeb",
   "metadata": {},
   "outputs": [],
   "source": [
    "# define a function to remove  @mentions and other useless text from the tweets\n",
    "def text_cleaning(text):\n",
    "    \"\"\"\n",
    "    Apply data cleaning steps to raw data.\n",
    "    \"\"\"\n",
    "    # Removing Hyperlinks\n",
    "    text = re.sub(r'https?:\\/\\/.*\\/\\w*', '', text)\n",
    "    # Removing Retweets\n",
    "    text = re.sub('#(RT|rt)*', '', text)\n",
    "\n",
    "    # Remove Numbers and words with Num\n",
    "    text = re.sub('\\w*\\d\\w*', '', text)\n",
    "\n",
    "    # removing @mentions\n",
    "    text = re.sub(r'@[A-Za-z0-9]+', '', text)\n",
    "    text = re.sub(r'@[A-Za-zA-Z0-9]+', '', text)\n",
    "    text = re.sub(r'@[A-Za-z]+', '', text)\n",
    "    text = re.sub(r'@[-)]+', '', text)\n",
    "\n",
    "    # removing #sign\n",
    "    text = re.sub(r'#', '', text)\n",
    "    text = re.sub(r\"[,.;':@#?!\\&/$]+\\ *\", ' ', text)\n",
    "\n",
    "    # remove the '&gt;'\n",
    "    text = re.sub(r'&[a-z;]+', '', text)\n",
    "\n",
    "    # Remove extra whitespace\n",
    "    text = re.sub(r'\\s\\s+', ' ', text)\n",
    "\n",
    "    # Remove space in front of tweet\n",
    "    text = text.lstrip(' ')\n",
    "    text = re.sub(r\"U+FFFD \", ' ', text)\n",
    "    return text.lower()\n"
   ]
  },
  {
   "cell_type": "code",
   "execution_count": 192,
   "id": "d34c67a0",
   "metadata": {},
   "outputs": [
    {
     "data": {
      "text/html": [
       "<div>\n",
       "<style scoped>\n",
       "    .dataframe tbody tr th:only-of-type {\n",
       "        vertical-align: middle;\n",
       "    }\n",
       "\n",
       "    .dataframe tbody tr th {\n",
       "        vertical-align: top;\n",
       "    }\n",
       "\n",
       "    .dataframe thead th {\n",
       "        text-align: right;\n",
       "    }\n",
       "</style>\n",
       "<table border=\"1\" class=\"dataframe\">\n",
       "  <thead>\n",
       "    <tr style=\"text-align: right;\">\n",
       "      <th></th>\n",
       "      <th>sentiment</th>\n",
       "      <th>message</th>\n",
       "      <th>tweetid</th>\n",
       "      <th>average_word_length</th>\n",
       "      <th>word_count</th>\n",
       "      <th>character_count</th>\n",
       "      <th>hashtags</th>\n",
       "    </tr>\n",
       "  </thead>\n",
       "  <tbody>\n",
       "    <tr>\n",
       "      <th>0</th>\n",
       "      <td>Pro</td>\n",
       "      <td>polyscimajor epa chief doesn t think carbon di...</td>\n",
       "      <td>625221</td>\n",
       "      <td>6.421053</td>\n",
       "      <td>19</td>\n",
       "      <td>140</td>\n",
       "      <td>[]</td>\n",
       "    </tr>\n",
       "    <tr>\n",
       "      <th>1</th>\n",
       "      <td>Pro</td>\n",
       "      <td>it s not like we lack evidence of anthropogeni...</td>\n",
       "      <td>126103</td>\n",
       "      <td>5.300000</td>\n",
       "      <td>10</td>\n",
       "      <td>62</td>\n",
       "      <td>[]</td>\n",
       "    </tr>\n",
       "    <tr>\n",
       "      <th>2</th>\n",
       "      <td>News</td>\n",
       "      <td>rt researchers say we have three years to act ...</td>\n",
       "      <td>698562</td>\n",
       "      <td>6.421053</td>\n",
       "      <td>19</td>\n",
       "      <td>140</td>\n",
       "      <td>[]</td>\n",
       "    </tr>\n",
       "    <tr>\n",
       "      <th>3</th>\n",
       "      <td>Pro</td>\n",
       "      <td>todayinmaker wired was a pivotal year in the w...</td>\n",
       "      <td>573736</td>\n",
       "      <td>5.666667</td>\n",
       "      <td>15</td>\n",
       "      <td>99</td>\n",
       "      <td>[#TodayinMaker#]</td>\n",
       "    </tr>\n",
       "    <tr>\n",
       "      <th>4</th>\n",
       "      <td>Pro</td>\n",
       "      <td>rt it s and a racist sexist climate change den...</td>\n",
       "      <td>466954</td>\n",
       "      <td>5.833333</td>\n",
       "      <td>18</td>\n",
       "      <td>122</td>\n",
       "      <td>[#ElectionNight]</td>\n",
       "    </tr>\n",
       "  </tbody>\n",
       "</table>\n",
       "</div>"
      ],
      "text/plain": [
       "  sentiment                                            message  tweetid  \\\n",
       "0       Pro  polyscimajor epa chief doesn t think carbon di...   625221   \n",
       "1       Pro  it s not like we lack evidence of anthropogeni...   126103   \n",
       "2      News  rt researchers say we have three years to act ...   698562   \n",
       "3       Pro  todayinmaker wired was a pivotal year in the w...   573736   \n",
       "4       Pro  rt it s and a racist sexist climate change den...   466954   \n",
       "\n",
       "   average_word_length  word_count  character_count          hashtags  \n",
       "0             6.421053          19              140                []  \n",
       "1             5.300000          10               62                []  \n",
       "2             6.421053          19              140                []  \n",
       "3             5.666667          15               99  [#TodayinMaker#]  \n",
       "4             5.833333          18              122  [#ElectionNight]  "
      ]
     },
     "execution_count": 192,
     "metadata": {},
     "output_type": "execute_result"
    }
   ],
   "source": [
    "df['message'] = df['message'].apply(lambda x: text_cleaning(x))\n",
    "\n",
    "# show the cleaned text \n",
    "df.head()\n",
    "\n"
   ]
  },
  {
   "cell_type": "code",
   "execution_count": 193,
   "id": "5a3f400e",
   "metadata": {},
   "outputs": [],
   "source": [
    "# Replace the word https with nothing: train\n",
    "df['message'] = df['message'].str.replace('https', '')"
   ]
  },
  {
   "cell_type": "code",
   "execution_count": 194,
   "id": "45171f2c",
   "metadata": {},
   "outputs": [],
   "source": [
    "# Remove Line breaks: train\n",
    "df['message']=df['message'].replace('\\n', ' ')"
   ]
  },
  {
   "cell_type": "markdown",
   "id": "e9fcfebb",
   "metadata": {},
   "source": [
    "\n",
    "### 1. Tokenization\n",
    "\n",
    "It consists in dividing the texts into words or smaller sub-texts, allowing us to determine the “vocabulary” of the dataset (set of unique tokens present in the data). Usually we use word-level representation. For our exemple we will use NLTK Tokenizer()\n",
    "\n"
   ]
  },
  {
   "cell_type": "code",
   "execution_count": 195,
   "id": "62ab2685",
   "metadata": {},
   "outputs": [
    {
     "data": {
      "text/html": [
       "<div>\n",
       "<style scoped>\n",
       "    .dataframe tbody tr th:only-of-type {\n",
       "        vertical-align: middle;\n",
       "    }\n",
       "\n",
       "    .dataframe tbody tr th {\n",
       "        vertical-align: top;\n",
       "    }\n",
       "\n",
       "    .dataframe thead th {\n",
       "        text-align: right;\n",
       "    }\n",
       "</style>\n",
       "<table border=\"1\" class=\"dataframe\">\n",
       "  <thead>\n",
       "    <tr style=\"text-align: right;\">\n",
       "      <th></th>\n",
       "      <th>sentiment</th>\n",
       "      <th>message</th>\n",
       "      <th>tweetid</th>\n",
       "      <th>average_word_length</th>\n",
       "      <th>word_count</th>\n",
       "      <th>character_count</th>\n",
       "      <th>hashtags</th>\n",
       "      <th>Tokenized_message</th>\n",
       "    </tr>\n",
       "  </thead>\n",
       "  <tbody>\n",
       "    <tr>\n",
       "      <th>0</th>\n",
       "      <td>Pro</td>\n",
       "      <td>polyscimajor epa chief doesn t think carbon di...</td>\n",
       "      <td>625221</td>\n",
       "      <td>6.421053</td>\n",
       "      <td>19</td>\n",
       "      <td>140</td>\n",
       "      <td>[]</td>\n",
       "      <td>[polyscimajor, epa, chief, doesn, t, think, ca...</td>\n",
       "    </tr>\n",
       "    <tr>\n",
       "      <th>1</th>\n",
       "      <td>Pro</td>\n",
       "      <td>it s not like we lack evidence of anthropogeni...</td>\n",
       "      <td>126103</td>\n",
       "      <td>5.300000</td>\n",
       "      <td>10</td>\n",
       "      <td>62</td>\n",
       "      <td>[]</td>\n",
       "      <td>[it, s, not, like, we, lack, evidence, of, ant...</td>\n",
       "    </tr>\n",
       "    <tr>\n",
       "      <th>2</th>\n",
       "      <td>News</td>\n",
       "      <td>rt researchers say we have three years to act ...</td>\n",
       "      <td>698562</td>\n",
       "      <td>6.421053</td>\n",
       "      <td>19</td>\n",
       "      <td>140</td>\n",
       "      <td>[]</td>\n",
       "      <td>[rt, researchers, say, we, have, three, years,...</td>\n",
       "    </tr>\n",
       "    <tr>\n",
       "      <th>3</th>\n",
       "      <td>Pro</td>\n",
       "      <td>todayinmaker wired was a pivotal year in the w...</td>\n",
       "      <td>573736</td>\n",
       "      <td>5.666667</td>\n",
       "      <td>15</td>\n",
       "      <td>99</td>\n",
       "      <td>[#TodayinMaker#]</td>\n",
       "      <td>[todayinmaker, wired, was, a, pivotal, year, i...</td>\n",
       "    </tr>\n",
       "    <tr>\n",
       "      <th>4</th>\n",
       "      <td>Pro</td>\n",
       "      <td>rt it s and a racist sexist climate change den...</td>\n",
       "      <td>466954</td>\n",
       "      <td>5.833333</td>\n",
       "      <td>18</td>\n",
       "      <td>122</td>\n",
       "      <td>[#ElectionNight]</td>\n",
       "      <td>[rt, it, s, and, a, racist, sexist, climate, c...</td>\n",
       "    </tr>\n",
       "  </tbody>\n",
       "</table>\n",
       "</div>"
      ],
      "text/plain": [
       "  sentiment                                            message  tweetid  \\\n",
       "0       Pro  polyscimajor epa chief doesn t think carbon di...   625221   \n",
       "1       Pro  it s not like we lack evidence of anthropogeni...   126103   \n",
       "2      News  rt researchers say we have three years to act ...   698562   \n",
       "3       Pro  todayinmaker wired was a pivotal year in the w...   573736   \n",
       "4       Pro  rt it s and a racist sexist climate change den...   466954   \n",
       "\n",
       "   average_word_length  word_count  character_count          hashtags  \\\n",
       "0             6.421053          19              140                []   \n",
       "1             5.300000          10               62                []   \n",
       "2             6.421053          19              140                []   \n",
       "3             5.666667          15               99  [#TodayinMaker#]   \n",
       "4             5.833333          18              122  [#ElectionNight]   \n",
       "\n",
       "                                   Tokenized_message  \n",
       "0  [polyscimajor, epa, chief, doesn, t, think, ca...  \n",
       "1  [it, s, not, like, we, lack, evidence, of, ant...  \n",
       "2  [rt, researchers, say, we, have, three, years,...  \n",
       "3  [todayinmaker, wired, was, a, pivotal, year, i...  \n",
       "4  [rt, it, s, and, a, racist, sexist, climate, c...  "
      ]
     },
     "execution_count": 195,
     "metadata": {},
     "output_type": "execute_result"
    }
   ],
   "source": [
    "# Tokenizinging tweet train data\n",
    "df['Tokenized_message'] = df['message'].apply(lambda x: x.split())\n",
    "df.head()"
   ]
  },
  {
   "cell_type": "markdown",
   "id": "587b5634",
   "metadata": {},
   "source": [
    "## Remove Stop words"
   ]
  },
  {
   "cell_type": "code",
   "execution_count": 196,
   "id": "a45a15e1",
   "metadata": {},
   "outputs": [
    {
     "data": {
      "text/html": [
       "<div>\n",
       "<style scoped>\n",
       "    .dataframe tbody tr th:only-of-type {\n",
       "        vertical-align: middle;\n",
       "    }\n",
       "\n",
       "    .dataframe tbody tr th {\n",
       "        vertical-align: top;\n",
       "    }\n",
       "\n",
       "    .dataframe thead th {\n",
       "        text-align: right;\n",
       "    }\n",
       "</style>\n",
       "<table border=\"1\" class=\"dataframe\">\n",
       "  <thead>\n",
       "    <tr style=\"text-align: right;\">\n",
       "      <th></th>\n",
       "      <th>sentiment</th>\n",
       "      <th>message</th>\n",
       "      <th>tweetid</th>\n",
       "      <th>average_word_length</th>\n",
       "      <th>word_count</th>\n",
       "      <th>character_count</th>\n",
       "      <th>hashtags</th>\n",
       "      <th>Tokenized_message</th>\n",
       "      <th>stopwords_removed</th>\n",
       "    </tr>\n",
       "  </thead>\n",
       "  <tbody>\n",
       "    <tr>\n",
       "      <th>0</th>\n",
       "      <td>Pro</td>\n",
       "      <td>polyscimajor epa chief doesn t think carbon di...</td>\n",
       "      <td>625221</td>\n",
       "      <td>6.421053</td>\n",
       "      <td>19</td>\n",
       "      <td>140</td>\n",
       "      <td>[]</td>\n",
       "      <td>[polyscimajor, epa, chief, doesn, t, think, ca...</td>\n",
       "      <td>[polyscimajor, epa, chief, think, carbon, diox...</td>\n",
       "    </tr>\n",
       "    <tr>\n",
       "      <th>1</th>\n",
       "      <td>Pro</td>\n",
       "      <td>it s not like we lack evidence of anthropogeni...</td>\n",
       "      <td>126103</td>\n",
       "      <td>5.300000</td>\n",
       "      <td>10</td>\n",
       "      <td>62</td>\n",
       "      <td>[]</td>\n",
       "      <td>[it, s, not, like, we, lack, evidence, of, ant...</td>\n",
       "      <td>[like, lack, evidence, anthropogenic, global, ...</td>\n",
       "    </tr>\n",
       "    <tr>\n",
       "      <th>2</th>\n",
       "      <td>News</td>\n",
       "      <td>rt researchers say we have three years to act ...</td>\n",
       "      <td>698562</td>\n",
       "      <td>6.421053</td>\n",
       "      <td>19</td>\n",
       "      <td>140</td>\n",
       "      <td>[]</td>\n",
       "      <td>[rt, researchers, say, we, have, three, years,...</td>\n",
       "      <td>[rt, researchers, say, three, years, act, clim...</td>\n",
       "    </tr>\n",
       "    <tr>\n",
       "      <th>3</th>\n",
       "      <td>Pro</td>\n",
       "      <td>todayinmaker wired was a pivotal year in the w...</td>\n",
       "      <td>573736</td>\n",
       "      <td>5.666667</td>\n",
       "      <td>15</td>\n",
       "      <td>99</td>\n",
       "      <td>[#TodayinMaker#]</td>\n",
       "      <td>[todayinmaker, wired, was, a, pivotal, year, i...</td>\n",
       "      <td>[todayinmaker, wired, pivotal, year, war, clim...</td>\n",
       "    </tr>\n",
       "    <tr>\n",
       "      <th>4</th>\n",
       "      <td>Pro</td>\n",
       "      <td>rt it s and a racist sexist climate change den...</td>\n",
       "      <td>466954</td>\n",
       "      <td>5.833333</td>\n",
       "      <td>18</td>\n",
       "      <td>122</td>\n",
       "      <td>[#ElectionNight]</td>\n",
       "      <td>[rt, it, s, and, a, racist, sexist, climate, c...</td>\n",
       "      <td>[rt, racist, sexist, climate, change, denying,...</td>\n",
       "    </tr>\n",
       "  </tbody>\n",
       "</table>\n",
       "</div>"
      ],
      "text/plain": [
       "  sentiment                                            message  tweetid  \\\n",
       "0       Pro  polyscimajor epa chief doesn t think carbon di...   625221   \n",
       "1       Pro  it s not like we lack evidence of anthropogeni...   126103   \n",
       "2      News  rt researchers say we have three years to act ...   698562   \n",
       "3       Pro  todayinmaker wired was a pivotal year in the w...   573736   \n",
       "4       Pro  rt it s and a racist sexist climate change den...   466954   \n",
       "\n",
       "   average_word_length  word_count  character_count          hashtags  \\\n",
       "0             6.421053          19              140                []   \n",
       "1             5.300000          10               62                []   \n",
       "2             6.421053          19              140                []   \n",
       "3             5.666667          15               99  [#TodayinMaker#]   \n",
       "4             5.833333          18              122  [#ElectionNight]   \n",
       "\n",
       "                                   Tokenized_message  \\\n",
       "0  [polyscimajor, epa, chief, doesn, t, think, ca...   \n",
       "1  [it, s, not, like, we, lack, evidence, of, ant...   \n",
       "2  [rt, researchers, say, we, have, three, years,...   \n",
       "3  [todayinmaker, wired, was, a, pivotal, year, i...   \n",
       "4  [rt, it, s, and, a, racist, sexist, climate, c...   \n",
       "\n",
       "                                   stopwords_removed  \n",
       "0  [polyscimajor, epa, chief, think, carbon, diox...  \n",
       "1  [like, lack, evidence, anthropogenic, global, ...  \n",
       "2  [rt, researchers, say, three, years, act, clim...  \n",
       "3  [todayinmaker, wired, pivotal, year, war, clim...  \n",
       "4  [rt, racist, sexist, climate, change, denying,...  "
      ]
     },
     "execution_count": 196,
     "metadata": {},
     "output_type": "execute_result"
    }
   ],
   "source": [
    "# Stop words Removal from train data\n",
    "df['stopwords_removed'] = df['Tokenized_message'].apply(lambda x: [word for word in x if word not in STOPWORDS])\n",
    "df.head()"
   ]
  },
  {
   "cell_type": "code",
   "execution_count": 197,
   "id": "b1a1d70a",
   "metadata": {},
   "outputs": [
    {
     "data": {
      "text/html": [
       "<div>\n",
       "<style scoped>\n",
       "    .dataframe tbody tr th:only-of-type {\n",
       "        vertical-align: middle;\n",
       "    }\n",
       "\n",
       "    .dataframe tbody tr th {\n",
       "        vertical-align: top;\n",
       "    }\n",
       "\n",
       "    .dataframe thead th {\n",
       "        text-align: right;\n",
       "    }\n",
       "</style>\n",
       "<table border=\"1\" class=\"dataframe\">\n",
       "  <thead>\n",
       "    <tr style=\"text-align: right;\">\n",
       "      <th></th>\n",
       "      <th>sentiment</th>\n",
       "      <th>message</th>\n",
       "      <th>tweetid</th>\n",
       "      <th>average_word_length</th>\n",
       "      <th>word_count</th>\n",
       "      <th>character_count</th>\n",
       "      <th>hashtags</th>\n",
       "      <th>Tokenized_message</th>\n",
       "      <th>stopwords_removed</th>\n",
       "      <th>pos_tags</th>\n",
       "    </tr>\n",
       "  </thead>\n",
       "  <tbody>\n",
       "    <tr>\n",
       "      <th>0</th>\n",
       "      <td>Pro</td>\n",
       "      <td>polyscimajor epa chief doesn t think carbon di...</td>\n",
       "      <td>625221</td>\n",
       "      <td>6.421053</td>\n",
       "      <td>19</td>\n",
       "      <td>140</td>\n",
       "      <td>[]</td>\n",
       "      <td>[polyscimajor, epa, chief, doesn, t, think, ca...</td>\n",
       "      <td>[polyscimajor, epa, chief, think, carbon, diox...</td>\n",
       "      <td>[(polyscimajor, JJ), (epa, NN), (chief, NN), (...</td>\n",
       "    </tr>\n",
       "    <tr>\n",
       "      <th>1</th>\n",
       "      <td>Pro</td>\n",
       "      <td>it s not like we lack evidence of anthropogeni...</td>\n",
       "      <td>126103</td>\n",
       "      <td>5.300000</td>\n",
       "      <td>10</td>\n",
       "      <td>62</td>\n",
       "      <td>[]</td>\n",
       "      <td>[it, s, not, like, we, lack, evidence, of, ant...</td>\n",
       "      <td>[like, lack, evidence, anthropogenic, global, ...</td>\n",
       "      <td>[(like, IN), (lack, NN), (evidence, NN), (anth...</td>\n",
       "    </tr>\n",
       "    <tr>\n",
       "      <th>2</th>\n",
       "      <td>News</td>\n",
       "      <td>rt researchers say we have three years to act ...</td>\n",
       "      <td>698562</td>\n",
       "      <td>6.421053</td>\n",
       "      <td>19</td>\n",
       "      <td>140</td>\n",
       "      <td>[]</td>\n",
       "      <td>[rt, researchers, say, we, have, three, years,...</td>\n",
       "      <td>[rt, researchers, say, three, years, act, clim...</td>\n",
       "      <td>[(rt, NN), (researchers, NNS), (say, VBP), (th...</td>\n",
       "    </tr>\n",
       "    <tr>\n",
       "      <th>3</th>\n",
       "      <td>Pro</td>\n",
       "      <td>todayinmaker wired was a pivotal year in the w...</td>\n",
       "      <td>573736</td>\n",
       "      <td>5.666667</td>\n",
       "      <td>15</td>\n",
       "      <td>99</td>\n",
       "      <td>[#TodayinMaker#]</td>\n",
       "      <td>[todayinmaker, wired, was, a, pivotal, year, i...</td>\n",
       "      <td>[todayinmaker, wired, pivotal, year, war, clim...</td>\n",
       "      <td>[(todayinmaker, NN), (wired, VBD), (pivotal, J...</td>\n",
       "    </tr>\n",
       "    <tr>\n",
       "      <th>4</th>\n",
       "      <td>Pro</td>\n",
       "      <td>rt it s and a racist sexist climate change den...</td>\n",
       "      <td>466954</td>\n",
       "      <td>5.833333</td>\n",
       "      <td>18</td>\n",
       "      <td>122</td>\n",
       "      <td>[#ElectionNight]</td>\n",
       "      <td>[rt, it, s, and, a, racist, sexist, climate, c...</td>\n",
       "      <td>[rt, racist, sexist, climate, change, denying,...</td>\n",
       "      <td>[(rt, JJ), (racist, NN), (sexist, NN), (climat...</td>\n",
       "    </tr>\n",
       "  </tbody>\n",
       "</table>\n",
       "</div>"
      ],
      "text/plain": [
       "  sentiment                                            message  tweetid  \\\n",
       "0       Pro  polyscimajor epa chief doesn t think carbon di...   625221   \n",
       "1       Pro  it s not like we lack evidence of anthropogeni...   126103   \n",
       "2      News  rt researchers say we have three years to act ...   698562   \n",
       "3       Pro  todayinmaker wired was a pivotal year in the w...   573736   \n",
       "4       Pro  rt it s and a racist sexist climate change den...   466954   \n",
       "\n",
       "   average_word_length  word_count  character_count          hashtags  \\\n",
       "0             6.421053          19              140                []   \n",
       "1             5.300000          10               62                []   \n",
       "2             6.421053          19              140                []   \n",
       "3             5.666667          15               99  [#TodayinMaker#]   \n",
       "4             5.833333          18              122  [#ElectionNight]   \n",
       "\n",
       "                                   Tokenized_message  \\\n",
       "0  [polyscimajor, epa, chief, doesn, t, think, ca...   \n",
       "1  [it, s, not, like, we, lack, evidence, of, ant...   \n",
       "2  [rt, researchers, say, we, have, three, years,...   \n",
       "3  [todayinmaker, wired, was, a, pivotal, year, i...   \n",
       "4  [rt, it, s, and, a, racist, sexist, climate, c...   \n",
       "\n",
       "                                   stopwords_removed  \\\n",
       "0  [polyscimajor, epa, chief, think, carbon, diox...   \n",
       "1  [like, lack, evidence, anthropogenic, global, ...   \n",
       "2  [rt, researchers, say, three, years, act, clim...   \n",
       "3  [todayinmaker, wired, pivotal, year, war, clim...   \n",
       "4  [rt, racist, sexist, climate, change, denying,...   \n",
       "\n",
       "                                            pos_tags  \n",
       "0  [(polyscimajor, JJ), (epa, NN), (chief, NN), (...  \n",
       "1  [(like, IN), (lack, NN), (evidence, NN), (anth...  \n",
       "2  [(rt, NN), (researchers, NNS), (say, VBP), (th...  \n",
       "3  [(todayinmaker, NN), (wired, VBD), (pivotal, J...  \n",
       "4  [(rt, JJ), (racist, NN), (sexist, NN), (climat...  "
      ]
     },
     "execution_count": 197,
     "metadata": {},
     "output_type": "execute_result"
    }
   ],
   "source": [
    "# Speech Tagging with the train dataAdaBoostClassifier\n",
    "df['pos_tags'] = df['stopwords_removed'].apply(nltk.tag.pos_tag)\n",
    "df.head()"
   ]
  },
  {
   "cell_type": "code",
   "execution_count": 198,
   "id": "40961d38",
   "metadata": {},
   "outputs": [
    {
     "data": {
      "text/html": [
       "<div>\n",
       "<style scoped>\n",
       "    .dataframe tbody tr th:only-of-type {\n",
       "        vertical-align: middle;\n",
       "    }\n",
       "\n",
       "    .dataframe tbody tr th {\n",
       "        vertical-align: top;\n",
       "    }\n",
       "\n",
       "    .dataframe thead th {\n",
       "        text-align: right;\n",
       "    }\n",
       "</style>\n",
       "<table border=\"1\" class=\"dataframe\">\n",
       "  <thead>\n",
       "    <tr style=\"text-align: right;\">\n",
       "      <th></th>\n",
       "      <th>sentiment</th>\n",
       "      <th>message</th>\n",
       "      <th>tweetid</th>\n",
       "      <th>average_word_length</th>\n",
       "      <th>word_count</th>\n",
       "      <th>character_count</th>\n",
       "      <th>hashtags</th>\n",
       "      <th>Tokenized_message</th>\n",
       "      <th>stopwords_removed</th>\n",
       "      <th>pos_tags</th>\n",
       "    </tr>\n",
       "  </thead>\n",
       "  <tbody>\n",
       "    <tr>\n",
       "      <th>0</th>\n",
       "      <td>1</td>\n",
       "      <td>polyscimajor epa chief doesn t think carbon di...</td>\n",
       "      <td>625221</td>\n",
       "      <td>6.421053</td>\n",
       "      <td>19</td>\n",
       "      <td>140</td>\n",
       "      <td>[]</td>\n",
       "      <td>[polyscimajor, epa, chief, doesn, t, think, ca...</td>\n",
       "      <td>[polyscimajor, epa, chief, think, carbon, diox...</td>\n",
       "      <td>[(polyscimajor, JJ), (epa, NN), (chief, NN), (...</td>\n",
       "    </tr>\n",
       "    <tr>\n",
       "      <th>1</th>\n",
       "      <td>1</td>\n",
       "      <td>it s not like we lack evidence of anthropogeni...</td>\n",
       "      <td>126103</td>\n",
       "      <td>5.300000</td>\n",
       "      <td>10</td>\n",
       "      <td>62</td>\n",
       "      <td>[]</td>\n",
       "      <td>[it, s, not, like, we, lack, evidence, of, ant...</td>\n",
       "      <td>[like, lack, evidence, anthropogenic, global, ...</td>\n",
       "      <td>[(like, IN), (lack, NN), (evidence, NN), (anth...</td>\n",
       "    </tr>\n",
       "    <tr>\n",
       "      <th>2</th>\n",
       "      <td>2</td>\n",
       "      <td>rt researchers say we have three years to act ...</td>\n",
       "      <td>698562</td>\n",
       "      <td>6.421053</td>\n",
       "      <td>19</td>\n",
       "      <td>140</td>\n",
       "      <td>[]</td>\n",
       "      <td>[rt, researchers, say, we, have, three, years,...</td>\n",
       "      <td>[rt, researchers, say, three, years, act, clim...</td>\n",
       "      <td>[(rt, NN), (researchers, NNS), (say, VBP), (th...</td>\n",
       "    </tr>\n",
       "    <tr>\n",
       "      <th>3</th>\n",
       "      <td>1</td>\n",
       "      <td>todayinmaker wired was a pivotal year in the w...</td>\n",
       "      <td>573736</td>\n",
       "      <td>5.666667</td>\n",
       "      <td>15</td>\n",
       "      <td>99</td>\n",
       "      <td>[#TodayinMaker#]</td>\n",
       "      <td>[todayinmaker, wired, was, a, pivotal, year, i...</td>\n",
       "      <td>[todayinmaker, wired, pivotal, year, war, clim...</td>\n",
       "      <td>[(todayinmaker, NN), (wired, VBD), (pivotal, J...</td>\n",
       "    </tr>\n",
       "    <tr>\n",
       "      <th>4</th>\n",
       "      <td>1</td>\n",
       "      <td>rt it s and a racist sexist climate change den...</td>\n",
       "      <td>466954</td>\n",
       "      <td>5.833333</td>\n",
       "      <td>18</td>\n",
       "      <td>122</td>\n",
       "      <td>[#ElectionNight]</td>\n",
       "      <td>[rt, it, s, and, a, racist, sexist, climate, c...</td>\n",
       "      <td>[rt, racist, sexist, climate, change, denying,...</td>\n",
       "      <td>[(rt, JJ), (racist, NN), (sexist, NN), (climat...</td>\n",
       "    </tr>\n",
       "  </tbody>\n",
       "</table>\n",
       "</div>"
      ],
      "text/plain": [
       "   sentiment                                            message  tweetid  \\\n",
       "0          1  polyscimajor epa chief doesn t think carbon di...   625221   \n",
       "1          1  it s not like we lack evidence of anthropogeni...   126103   \n",
       "2          2  rt researchers say we have three years to act ...   698562   \n",
       "3          1  todayinmaker wired was a pivotal year in the w...   573736   \n",
       "4          1  rt it s and a racist sexist climate change den...   466954   \n",
       "\n",
       "   average_word_length  word_count  character_count          hashtags  \\\n",
       "0             6.421053          19              140                []   \n",
       "1             5.300000          10               62                []   \n",
       "2             6.421053          19              140                []   \n",
       "3             5.666667          15               99  [#TodayinMaker#]   \n",
       "4             5.833333          18              122  [#ElectionNight]   \n",
       "\n",
       "                                   Tokenized_message  \\\n",
       "0  [polyscimajor, epa, chief, doesn, t, think, ca...   \n",
       "1  [it, s, not, like, we, lack, evidence, of, ant...   \n",
       "2  [rt, researchers, say, we, have, three, years,...   \n",
       "3  [todayinmaker, wired, was, a, pivotal, year, i...   \n",
       "4  [rt, it, s, and, a, racist, sexist, climate, c...   \n",
       "\n",
       "                                   stopwords_removed  \\\n",
       "0  [polyscimajor, epa, chief, think, carbon, diox...   \n",
       "1  [like, lack, evidence, anthropogenic, global, ...   \n",
       "2  [rt, researchers, say, three, years, act, clim...   \n",
       "3  [todayinmaker, wired, pivotal, year, war, clim...   \n",
       "4  [rt, racist, sexist, climate, change, denying,...   \n",
       "\n",
       "                                            pos_tags  \n",
       "0  [(polyscimajor, JJ), (epa, NN), (chief, NN), (...  \n",
       "1  [(like, IN), (lack, NN), (evidence, NN), (anth...  \n",
       "2  [(rt, NN), (researchers, NNS), (say, VBP), (th...  \n",
       "3  [(todayinmaker, NN), (wired, VBD), (pivotal, J...  \n",
       "4  [(rt, JJ), (racist, NN), (sexist, NN), (climat...  "
      ]
     },
     "execution_count": 198,
     "metadata": {},
     "output_type": "execute_result"
    }
   ],
   "source": [
    "def sentiment(df):\n",
    "  \n",
    "  sentiment = df['sentiment']\n",
    "  sentiment_class = []\n",
    "\n",
    "  for i in sentiment :\n",
    "      if i == 'Pro' :\n",
    "          sentiment_class.append(1)\n",
    "      elif i == 'Neutral' :\n",
    "          sentiment_class.append(0)\n",
    "      elif i == 'Anti' :\n",
    "          sentiment_class.append(-1)\n",
    "      else :\n",
    "          sentiment_class.append(2)\n",
    "\n",
    "  df['sentiment'] = sentiment_class\n",
    "    \n",
    "  return df\n",
    "df = sentiment(df.copy())\n",
    "df.head()"
   ]
  },
  {
   "cell_type": "markdown",
   "id": "5acb950c",
   "metadata": {},
   "source": [
    "### Preprocessing the test data\n"
   ]
  },
  {
   "cell_type": "code",
   "execution_count": 199,
   "id": "c7a30dbc",
   "metadata": {},
   "outputs": [],
   "source": [
    "df_test=test.copy()"
   ]
  },
  {
   "cell_type": "code",
   "execution_count": 200,
   "id": "23907543",
   "metadata": {},
   "outputs": [
    {
     "data": {
      "text/html": [
       "<div>\n",
       "<style scoped>\n",
       "    .dataframe tbody tr th:only-of-type {\n",
       "        vertical-align: middle;\n",
       "    }\n",
       "\n",
       "    .dataframe tbody tr th {\n",
       "        vertical-align: top;\n",
       "    }\n",
       "\n",
       "    .dataframe thead th {\n",
       "        text-align: right;\n",
       "    }\n",
       "</style>\n",
       "<table border=\"1\" class=\"dataframe\">\n",
       "  <thead>\n",
       "    <tr style=\"text-align: right;\">\n",
       "      <th></th>\n",
       "      <th>message</th>\n",
       "      <th>tweetid</th>\n",
       "      <th>hashtags</th>\n",
       "    </tr>\n",
       "  </thead>\n",
       "  <tbody>\n",
       "    <tr>\n",
       "      <th>0</th>\n",
       "      <td>Europe will now be looking to China to make su...</td>\n",
       "      <td>169760</td>\n",
       "      <td>NaN</td>\n",
       "    </tr>\n",
       "    <tr>\n",
       "      <th>1</th>\n",
       "      <td>Combine this with the polling of staffers re c...</td>\n",
       "      <td>35326</td>\n",
       "      <td>NaN</td>\n",
       "    </tr>\n",
       "    <tr>\n",
       "      <th>2</th>\n",
       "      <td>The scary, unimpeachable evidence that climate...</td>\n",
       "      <td>224985</td>\n",
       "      <td>[#itstimetochange, #climatechange]</td>\n",
       "    </tr>\n",
       "    <tr>\n",
       "      <th>3</th>\n",
       "      <td>@Karoli @morgfair @OsborneInk @dailykos \\nPuti...</td>\n",
       "      <td>476263</td>\n",
       "      <td>NaN</td>\n",
       "    </tr>\n",
       "    <tr>\n",
       "      <th>4</th>\n",
       "      <td>RT @FakeWillMoore: 'Female orgasms cause globa...</td>\n",
       "      <td>872928</td>\n",
       "      <td>NaN</td>\n",
       "    </tr>\n",
       "    <tr>\n",
       "      <th>...</th>\n",
       "      <td>...</td>\n",
       "      <td>...</td>\n",
       "      <td>...</td>\n",
       "    </tr>\n",
       "    <tr>\n",
       "      <th>10541</th>\n",
       "      <td>RT @BrittanyBohrer: Brb, writing a poem about ...</td>\n",
       "      <td>895714</td>\n",
       "      <td>[#climatechange, #science, #poetry, #fakenews,...</td>\n",
       "    </tr>\n",
       "    <tr>\n",
       "      <th>10542</th>\n",
       "      <td>2016: the year climate change came home: Durin...</td>\n",
       "      <td>875167</td>\n",
       "      <td>NaN</td>\n",
       "    </tr>\n",
       "    <tr>\n",
       "      <th>10543</th>\n",
       "      <td>RT @loop_vanuatu: Pacific countries positive a...</td>\n",
       "      <td>78329</td>\n",
       "      <td>NaN</td>\n",
       "    </tr>\n",
       "    <tr>\n",
       "      <th>10544</th>\n",
       "      <td>RT @xanria_00018: You’re so hot, you must be t...</td>\n",
       "      <td>867455</td>\n",
       "      <td>[#aldublaboroflove]</td>\n",
       "    </tr>\n",
       "    <tr>\n",
       "      <th>10545</th>\n",
       "      <td>RT @chloebalaoing: climate change is a global ...</td>\n",
       "      <td>470892</td>\n",
       "      <td>NaN</td>\n",
       "    </tr>\n",
       "  </tbody>\n",
       "</table>\n",
       "<p>10546 rows × 3 columns</p>\n",
       "</div>"
      ],
      "text/plain": [
       "                                                 message  tweetid  \\\n",
       "0      Europe will now be looking to China to make su...   169760   \n",
       "1      Combine this with the polling of staffers re c...    35326   \n",
       "2      The scary, unimpeachable evidence that climate...   224985   \n",
       "3      @Karoli @morgfair @OsborneInk @dailykos \\nPuti...   476263   \n",
       "4      RT @FakeWillMoore: 'Female orgasms cause globa...   872928   \n",
       "...                                                  ...      ...   \n",
       "10541  RT @BrittanyBohrer: Brb, writing a poem about ...   895714   \n",
       "10542  2016: the year climate change came home: Durin...   875167   \n",
       "10543  RT @loop_vanuatu: Pacific countries positive a...    78329   \n",
       "10544  RT @xanria_00018: You’re so hot, you must be t...   867455   \n",
       "10545  RT @chloebalaoing: climate change is a global ...   470892   \n",
       "\n",
       "                                                hashtags  \n",
       "0                                                    NaN  \n",
       "1                                                    NaN  \n",
       "2                     [#itstimetochange, #climatechange]  \n",
       "3                                                    NaN  \n",
       "4                                                    NaN  \n",
       "...                                                  ...  \n",
       "10541  [#climatechange, #science, #poetry, #fakenews,...  \n",
       "10542                                                NaN  \n",
       "10543                                                NaN  \n",
       "10544                                [#aldublaboroflove]  \n",
       "10545                                                NaN  \n",
       "\n",
       "[10546 rows x 3 columns]"
      ]
     },
     "execution_count": 200,
     "metadata": {},
     "output_type": "execute_result"
    }
   ],
   "source": [
    "# Extract the hashtags from the tweets from the test data\n",
    "\n",
    "def extract_hashtags(df_test):\n",
    "\n",
    "  \"\"\"\n",
    "   This function extracts hashtags from tweets\n",
    "   and stores the hashtags on a new column \n",
    "\n",
    "   Input: test Dataframe\n",
    "   datatype: dataframe\n",
    "\n",
    "\n",
    "   output: new column with hastag column\n",
    "\n",
    "  \"\"\"\n",
    "\n",
    "  df_test['hashtags'] = df_test['message'].str.findall(r'#.*?(?=\\s|$)')\n",
    "  df_test['hashtags'] = df_test['hashtags'].apply(lambda x: np.nan if len(x)==0 else [x.lower() for x in x])\n",
    "    \n",
    "  return df_test\n",
    "\n",
    "extract_hashtags(df_test)"
   ]
  },
  {
   "cell_type": "code",
   "execution_count": 201,
   "id": "c731d407",
   "metadata": {},
   "outputs": [],
   "source": [
    "# remove twitter handles (@user) from test data\n",
    "df_test['message'] = np.vectorize(remove_pattern)(df_test['message'], \"@[\\w]*\")"
   ]
  },
  {
   "cell_type": "code",
   "execution_count": 202,
   "id": "c48f6f7b",
   "metadata": {},
   "outputs": [
    {
     "name": "stderr",
     "output_type": "stream",
     "text": [
      "C:\\Users\\f5468981\\AppData\\Local\\Temp/ipykernel_23004/3880927162.py:2: FutureWarning: The default value of regex will change from True to False in a future version.\n",
      "  df_test['message'] = df_test['message'].str.replace(\"[^a-zA-Z#]\", \" \")\n"
     ]
    }
   ],
   "source": [
    "# remove special characters, numbers, punctuations from test data\n",
    "df_test['message'] = df_test['message'].str.replace(\"[^a-zA-Z#]\", \" \")\n"
   ]
  },
  {
   "cell_type": "code",
   "execution_count": 203,
   "id": "8c7b50af",
   "metadata": {},
   "outputs": [
    {
     "data": {
      "text/plain": [
       "0        Europe will looking China make sure that alone...\n",
       "1        Combine this with polling staffers climate cha...\n",
       "2        scary unimpeachable evidence that climate chan...\n",
       "3        Putin Jill Trump doesn believe climate change ...\n",
       "4        Female orgasms cause global warming Sarcastic ...\n",
       "                               ...                        \n",
       "10541    writing poem about climate change #climatechan...\n",
       "10542    year climate change came home During hottest y...\n",
       "10543    Pacific countries positive about Fiji leading ...\n",
       "10544          must cause global warming #ALDUBLaborOfLove\n",
       "10545    climate change global issue that only getting ...\n",
       "Name: message, Length: 10546, dtype: object"
      ]
     },
     "execution_count": 203,
     "metadata": {},
     "output_type": "execute_result"
    }
   ],
   "source": [
    "# removing short words from train data\n",
    "df_test['message'].apply(lambda x: ' '.join([w for w in x.split() if len(w)>3]))\n"
   ]
  },
  {
   "cell_type": "code",
   "execution_count": 204,
   "id": "f21fc23e",
   "metadata": {},
   "outputs": [
    {
     "data": {
      "text/plain": [
       "<bound method NDFrame.head of                                                  message  tweetid  \\\n",
       "0      europe will now be looking to china to make su...   169760   \n",
       "1      combine this with the polling of staffers re c...    35326   \n",
       "2      the scary unimpeachable evidence that climate ...   224985   \n",
       "3      putin got to you too jill trump doesn t believ...   476263   \n",
       "4      rt female orgasms cause global warming sarcast...   872928   \n",
       "...                                                  ...      ...   \n",
       "10541  rt brb writing a poem about climate change cli...   895714   \n",
       "10542  the year climate change came home during the h...   875167   \n",
       "10543  rt pacific countries positive about fiji leadi...    78329   \n",
       "10544  rt you re so hot you must be the cause for glo...   867455   \n",
       "10545  rt climate change is a global issue that s onl...   470892   \n",
       "\n",
       "                                                hashtags  \n",
       "0                                                    NaN  \n",
       "1                                                    NaN  \n",
       "2                     [#itstimetochange, #climatechange]  \n",
       "3                                                    NaN  \n",
       "4                                                    NaN  \n",
       "...                                                  ...  \n",
       "10541  [#climatechange, #science, #poetry, #fakenews,...  \n",
       "10542                                                NaN  \n",
       "10543                                                NaN  \n",
       "10544                                [#aldublaboroflove]  \n",
       "10545                                                NaN  \n",
       "\n",
       "[10546 rows x 3 columns]>"
      ]
     },
     "execution_count": 204,
     "metadata": {},
     "output_type": "execute_result"
    }
   ],
   "source": [
    "# Cleaning the text of test data\n",
    "df_test['message'] = df_test['message'].apply(lambda x: text_cleaning(x))\n",
    "# Show the cleaned text \n",
    "df_test.head"
   ]
  },
  {
   "cell_type": "code",
   "execution_count": 205,
   "id": "7c8d2058",
   "metadata": {},
   "outputs": [],
   "source": [
    "# Remplace the word https with nothing: test\n",
    "df_test['message'] = df_test['message'].str.replace('https', '')"
   ]
  },
  {
   "cell_type": "code",
   "execution_count": 206,
   "id": "777c4f08",
   "metadata": {},
   "outputs": [],
   "source": [
    "# Remove Line breaks: test\n",
    "df_test['message']=df_test['message'].replace('\\n', ' ')\n"
   ]
  },
  {
   "cell_type": "code",
   "execution_count": 207,
   "id": "33397f27",
   "metadata": {},
   "outputs": [
    {
     "data": {
      "text/html": [
       "<div>\n",
       "<style scoped>\n",
       "    .dataframe tbody tr th:only-of-type {\n",
       "        vertical-align: middle;\n",
       "    }\n",
       "\n",
       "    .dataframe tbody tr th {\n",
       "        vertical-align: top;\n",
       "    }\n",
       "\n",
       "    .dataframe thead th {\n",
       "        text-align: right;\n",
       "    }\n",
       "</style>\n",
       "<table border=\"1\" class=\"dataframe\">\n",
       "  <thead>\n",
       "    <tr style=\"text-align: right;\">\n",
       "      <th></th>\n",
       "      <th>message</th>\n",
       "      <th>tweetid</th>\n",
       "      <th>hashtags</th>\n",
       "      <th>Tokenized_tweet</th>\n",
       "    </tr>\n",
       "  </thead>\n",
       "  <tbody>\n",
       "    <tr>\n",
       "      <th>0</th>\n",
       "      <td>europe will now be looking to china to make su...</td>\n",
       "      <td>169760</td>\n",
       "      <td>NaN</td>\n",
       "      <td>[europe, will, now, be, looking, to, china, to...</td>\n",
       "    </tr>\n",
       "    <tr>\n",
       "      <th>1</th>\n",
       "      <td>combine this with the polling of staffers re c...</td>\n",
       "      <td>35326</td>\n",
       "      <td>NaN</td>\n",
       "      <td>[combine, this, with, the, polling, of, staffe...</td>\n",
       "    </tr>\n",
       "    <tr>\n",
       "      <th>2</th>\n",
       "      <td>the scary unimpeachable evidence that climate ...</td>\n",
       "      <td>224985</td>\n",
       "      <td>[#itstimetochange, #climatechange]</td>\n",
       "      <td>[the, scary, unimpeachable, evidence, that, cl...</td>\n",
       "    </tr>\n",
       "    <tr>\n",
       "      <th>3</th>\n",
       "      <td>putin got to you too jill trump doesn t believ...</td>\n",
       "      <td>476263</td>\n",
       "      <td>NaN</td>\n",
       "      <td>[putin, got, to, you, too, jill, trump, doesn,...</td>\n",
       "    </tr>\n",
       "    <tr>\n",
       "      <th>4</th>\n",
       "      <td>rt female orgasms cause global warming sarcast...</td>\n",
       "      <td>872928</td>\n",
       "      <td>NaN</td>\n",
       "      <td>[rt, female, orgasms, cause, global, warming, ...</td>\n",
       "    </tr>\n",
       "  </tbody>\n",
       "</table>\n",
       "</div>"
      ],
      "text/plain": [
       "                                             message  tweetid  \\\n",
       "0  europe will now be looking to china to make su...   169760   \n",
       "1  combine this with the polling of staffers re c...    35326   \n",
       "2  the scary unimpeachable evidence that climate ...   224985   \n",
       "3  putin got to you too jill trump doesn t believ...   476263   \n",
       "4  rt female orgasms cause global warming sarcast...   872928   \n",
       "\n",
       "                             hashtags  \\\n",
       "0                                 NaN   \n",
       "1                                 NaN   \n",
       "2  [#itstimetochange, #climatechange]   \n",
       "3                                 NaN   \n",
       "4                                 NaN   \n",
       "\n",
       "                                     Tokenized_tweet  \n",
       "0  [europe, will, now, be, looking, to, china, to...  \n",
       "1  [combine, this, with, the, polling, of, staffe...  \n",
       "2  [the, scary, unimpeachable, evidence, that, cl...  \n",
       "3  [putin, got, to, you, too, jill, trump, doesn,...  \n",
       "4  [rt, female, orgasms, cause, global, warming, ...  "
      ]
     },
     "execution_count": 207,
     "metadata": {},
     "output_type": "execute_result"
    }
   ],
   "source": [
    "# Tokenizinging tweet test data\n",
    "df_test['Tokenized_tweet'] = df_test['message'].apply(lambda x: x.split())\n",
    "df_test.head()\n"
   ]
  },
  {
   "cell_type": "code",
   "execution_count": 208,
   "id": "b2ae1c74",
   "metadata": {},
   "outputs": [
    {
     "data": {
      "text/html": [
       "<div>\n",
       "<style scoped>\n",
       "    .dataframe tbody tr th:only-of-type {\n",
       "        vertical-align: middle;\n",
       "    }\n",
       "\n",
       "    .dataframe tbody tr th {\n",
       "        vertical-align: top;\n",
       "    }\n",
       "\n",
       "    .dataframe thead th {\n",
       "        text-align: right;\n",
       "    }\n",
       "</style>\n",
       "<table border=\"1\" class=\"dataframe\">\n",
       "  <thead>\n",
       "    <tr style=\"text-align: right;\">\n",
       "      <th></th>\n",
       "      <th>message</th>\n",
       "      <th>tweetid</th>\n",
       "      <th>hashtags</th>\n",
       "      <th>Tokenized_tweet</th>\n",
       "      <th>stopwords_removed</th>\n",
       "    </tr>\n",
       "  </thead>\n",
       "  <tbody>\n",
       "    <tr>\n",
       "      <th>0</th>\n",
       "      <td>europe will now be looking to china to make su...</td>\n",
       "      <td>169760</td>\n",
       "      <td>NaN</td>\n",
       "      <td>[europe, will, now, be, looking, to, china, to...</td>\n",
       "      <td>[europe, looking, china, make, sure, alone, fi...</td>\n",
       "    </tr>\n",
       "    <tr>\n",
       "      <th>1</th>\n",
       "      <td>combine this with the polling of staffers re c...</td>\n",
       "      <td>35326</td>\n",
       "      <td>NaN</td>\n",
       "      <td>[combine, this, with, the, polling, of, staffe...</td>\n",
       "      <td>[combine, polling, staffers, climate, change, ...</td>\n",
       "    </tr>\n",
       "    <tr>\n",
       "      <th>2</th>\n",
       "      <td>the scary unimpeachable evidence that climate ...</td>\n",
       "      <td>224985</td>\n",
       "      <td>[#itstimetochange, #climatechange]</td>\n",
       "      <td>[the, scary, unimpeachable, evidence, that, cl...</td>\n",
       "      <td>[scary, unimpeachable, evidence, climate, chan...</td>\n",
       "    </tr>\n",
       "    <tr>\n",
       "      <th>3</th>\n",
       "      <td>putin got to you too jill trump doesn t believ...</td>\n",
       "      <td>476263</td>\n",
       "      <td>NaN</td>\n",
       "      <td>[putin, got, to, you, too, jill, trump, doesn,...</td>\n",
       "      <td>[putin, got, jill, trump, believe, climate, ch...</td>\n",
       "    </tr>\n",
       "    <tr>\n",
       "      <th>4</th>\n",
       "      <td>rt female orgasms cause global warming sarcast...</td>\n",
       "      <td>872928</td>\n",
       "      <td>NaN</td>\n",
       "      <td>[rt, female, orgasms, cause, global, warming, ...</td>\n",
       "      <td>[rt, female, orgasms, cause, global, warming, ...</td>\n",
       "    </tr>\n",
       "  </tbody>\n",
       "</table>\n",
       "</div>"
      ],
      "text/plain": [
       "                                             message  tweetid  \\\n",
       "0  europe will now be looking to china to make su...   169760   \n",
       "1  combine this with the polling of staffers re c...    35326   \n",
       "2  the scary unimpeachable evidence that climate ...   224985   \n",
       "3  putin got to you too jill trump doesn t believ...   476263   \n",
       "4  rt female orgasms cause global warming sarcast...   872928   \n",
       "\n",
       "                             hashtags  \\\n",
       "0                                 NaN   \n",
       "1                                 NaN   \n",
       "2  [#itstimetochange, #climatechange]   \n",
       "3                                 NaN   \n",
       "4                                 NaN   \n",
       "\n",
       "                                     Tokenized_tweet  \\\n",
       "0  [europe, will, now, be, looking, to, china, to...   \n",
       "1  [combine, this, with, the, polling, of, staffe...   \n",
       "2  [the, scary, unimpeachable, evidence, that, cl...   \n",
       "3  [putin, got, to, you, too, jill, trump, doesn,...   \n",
       "4  [rt, female, orgasms, cause, global, warming, ...   \n",
       "\n",
       "                                   stopwords_removed  \n",
       "0  [europe, looking, china, make, sure, alone, fi...  \n",
       "1  [combine, polling, staffers, climate, change, ...  \n",
       "2  [scary, unimpeachable, evidence, climate, chan...  \n",
       "3  [putin, got, jill, trump, believe, climate, ch...  \n",
       "4  [rt, female, orgasms, cause, global, warming, ...  "
      ]
     },
     "execution_count": 208,
     "metadata": {},
     "output_type": "execute_result"
    }
   ],
   "source": [
    "# Stop words Removal from test data\n",
    "df_test['stopwords_removed'] = df_test['Tokenized_tweet'].apply(lambda x: [word for word in x if word not in STOPWORDS])\n",
    "df_test.head()"
   ]
  },
  {
   "cell_type": "code",
   "execution_count": 209,
   "id": "f5269759",
   "metadata": {},
   "outputs": [],
   "source": [
    "# Speech Tagging with the test data\n",
    "df_test['pos_tags'] = df_test['stopwords_removed'].apply(nltk.tag.pos_tag)\n"
   ]
  },
  {
   "cell_type": "markdown",
   "id": "86a6be65",
   "metadata": {},
   "source": [
    "<a id=\"five\"></a>\n",
    "## 5. Modelling\n",
    "<a class=\"anchor\" id=\"1.1\"></a>\n",
    "<a href=#cont>Back to Table of Contents</a>\n",
    "\n",
    "---\n",
    "    \n",
    "| ⚡ Description: Modelling ⚡ |\n",
    "| :--------------------------- |\n",
    "| In this section, create one or more regression models that are able to accurately predict the Sentiment. |\n",
    "\n",
    "---"
   ]
  },
  {
   "cell_type": "code",
   "execution_count": null,
   "id": "4e17421f",
   "metadata": {},
   "outputs": [],
   "source": []
  },
  {
   "cell_type": "code",
   "execution_count": null,
   "id": "7a45e5e3",
   "metadata": {},
   "outputs": [],
   "source": []
  },
  {
   "cell_type": "code",
   "execution_count": null,
   "id": "b0198409",
   "metadata": {},
   "outputs": [],
   "source": []
  },
  {
   "cell_type": "code",
   "execution_count": null,
   "id": "7c92345e",
   "metadata": {},
   "outputs": [],
   "source": []
  },
  {
   "cell_type": "markdown",
   "id": "53fb7df1",
   "metadata": {},
   "source": [
    "<a id=\"six\"></a>\n",
    "## 6. Model Performance\n",
    "<a class=\"anchor\" id=\"1.1\"></a>\n",
    "<a href=#cont>Back to Table of Contents</a>\n",
    "\n",
    "---\n",
    "    \n",
    "| ⚡ Description: Model performance ⚡ |\n",
    "| :--------------------------- |\n",
    "| In this section you are required to compare the relative performance of the various trained ML models on a holdout dataset and comment on what model is the best and why. |\n",
    "\n",
    "---"
   ]
  },
  {
   "cell_type": "code",
   "execution_count": null,
   "id": "5592c0f4",
   "metadata": {},
   "outputs": [],
   "source": []
  },
  {
   "cell_type": "code",
   "execution_count": null,
   "id": "66154507",
   "metadata": {},
   "outputs": [],
   "source": []
  },
  {
   "cell_type": "markdown",
   "id": "ddc1c80f",
   "metadata": {},
   "source": [
    "<a id=\"seven\"></a>\n",
    "## 7. Model Explanations\n",
    "<a class=\"anchor\" id=\"1.1\"></a>\n",
    "<a href=#cont>Back to Table of Contents</a>\n",
    "\n",
    "---\n",
    "    \n",
    "| ⚡ Description: Model explanation ⚡ |\n",
    "| :--------------------------- |\n",
    "| In this section, you are required to discuss how the best performing model works in a simple way so that both technical and non-technical stakeholders can grasp the intuition behind the model's inner workings. |\n",
    "\n",
    "---"
   ]
  },
  {
   "cell_type": "code",
   "execution_count": null,
   "id": "ae3513b2",
   "metadata": {},
   "outputs": [],
   "source": []
  }
 ],
 "metadata": {
  "kernelspec": {
   "display_name": "Python 3 (ipykernel)",
   "language": "python",
   "name": "python3"
  },
  "language_info": {
   "codemirror_mode": {
    "name": "ipython",
    "version": 3
   },
   "file_extension": ".py",
   "mimetype": "text/x-python",
   "name": "python",
   "nbconvert_exporter": "python",
   "pygments_lexer": "ipython3",
   "version": "3.9.7"
  },
  "vscode": {
   "interpreter": {
    "hash": "04455e36e172f6b292652d16f1e65dd2a7915d80c3850a404294de2c47ba9b33"
   }
  }
 },
 "nbformat": 4,
 "nbformat_minor": 5
}
